{
  "nbformat": 4,
  "nbformat_minor": 0,
  "metadata": {
    "colab": {
      "provenance": []
    },
    "kernelspec": {
      "name": "python3",
      "display_name": "Python 3"
    },
    "language_info": {
      "name": "python"
    }
  },
  "cells": [
    {
      "cell_type": "code",
      "execution_count": 1,
      "metadata": {
        "id": "_iGJHSYhlXNe"
      },
      "outputs": [],
      "source": [
        "import pandas as pd\n",
        "import matplotlib.pyplot as plt\n",
        "%matplotlib inline\n",
        "from matplotlib.pylab import rcParams\n",
        "import seaborn as sns\n",
        "import numpy as np\n"
      ]
    },
    {
      "cell_type": "markdown",
      "source": [
        "**Data:**\n",
        "\n",
        "I utilized NYPD Shootings Reports data to gather information on reported shootings throughout New York City on\n",
        "a daily basis. I also requested weather data from https://www.noaa.gov/ for historical daily weather in Central Park\n",
        "for the given dates within the NYPD Report (1/1/2006 - 12/31/2020). The weather data had many more columns which were\n",
        "not needed for this project so I worked on them in Excel (dropped columns like wind speed and direction and addad a TAvg column which found the daily\n",
        "average temp given the Max and Min). This data will need to be uploaded into the notebook and will be provided within\n",
        "the folder (tempData.csv)."
      ],
      "metadata": {
        "id": "lvDc-vjmwiFP"
      }
    },
    {
      "cell_type": "code",
      "source": [
        "!curl https://data.cityofnewyork.us/api/views/833y-fsy8/rows.csv?accessType=DOWNLOAD -o shooting.csv\n"
      ],
      "metadata": {
        "id": "WsE8BG6dlaQk",
        "colab": {
          "base_uri": "https://localhost:8080/"
        },
        "outputId": "713539bc-aa16-43c4-bc40-82b8567c4614"
      },
      "execution_count": 2,
      "outputs": [
        {
          "output_type": "stream",
          "name": "stdout",
          "text": [
            "  % Total    % Received % Xferd  Average Speed   Time    Time     Time  Current\n",
            "                                 Dload  Upload   Total   Spent    Left  Speed\n",
            "100 5696k    0 5696k    0     0  2330k      0 --:--:--  0:00:02 --:--:-- 2331k\n"
          ]
        }
      ]
    },
    {
      "cell_type": "code",
      "source": [
        "data = pd.read_csv(\"shooting.csv\")\n",
        "tempData = pd.read_csv(\"tempData.csv\")\n"
      ],
      "metadata": {
        "id": "M966wftVlnZ0",
        "colab": {
          "base_uri": "https://localhost:8080/",
          "height": 328
        },
        "outputId": "f55764a7-18bd-4bdc-b51e-ae7eaf6e114d"
      },
      "execution_count": 3,
      "outputs": [
        {
          "output_type": "error",
          "ename": "FileNotFoundError",
          "evalue": "ignored",
          "traceback": [
            "\u001b[0;31m---------------------------------------------------------------------------\u001b[0m",
            "\u001b[0;31mFileNotFoundError\u001b[0m                         Traceback (most recent call last)",
            "\u001b[0;32m<ipython-input-3-bc56e3a38829>\u001b[0m in \u001b[0;36m<cell line: 2>\u001b[0;34m()\u001b[0m\n\u001b[1;32m      1\u001b[0m \u001b[0mdata\u001b[0m \u001b[0;34m=\u001b[0m \u001b[0mpd\u001b[0m\u001b[0;34m.\u001b[0m\u001b[0mread_csv\u001b[0m\u001b[0;34m(\u001b[0m\u001b[0;34m\"shooting.csv\"\u001b[0m\u001b[0;34m)\u001b[0m\u001b[0;34m\u001b[0m\u001b[0;34m\u001b[0m\u001b[0m\n\u001b[0;32m----> 2\u001b[0;31m \u001b[0mtempData\u001b[0m \u001b[0;34m=\u001b[0m \u001b[0mpd\u001b[0m\u001b[0;34m.\u001b[0m\u001b[0mread_csv\u001b[0m\u001b[0;34m(\u001b[0m\u001b[0;34m\"tempData.csv\"\u001b[0m\u001b[0;34m)\u001b[0m\u001b[0;34m\u001b[0m\u001b[0;34m\u001b[0m\u001b[0m\n\u001b[0m",
            "\u001b[0;32m/usr/local/lib/python3.10/dist-packages/pandas/util/_decorators.py\u001b[0m in \u001b[0;36mwrapper\u001b[0;34m(*args, **kwargs)\u001b[0m\n\u001b[1;32m    209\u001b[0m                 \u001b[0;32melse\u001b[0m\u001b[0;34m:\u001b[0m\u001b[0;34m\u001b[0m\u001b[0;34m\u001b[0m\u001b[0m\n\u001b[1;32m    210\u001b[0m                     \u001b[0mkwargs\u001b[0m\u001b[0;34m[\u001b[0m\u001b[0mnew_arg_name\u001b[0m\u001b[0;34m]\u001b[0m \u001b[0;34m=\u001b[0m \u001b[0mnew_arg_value\u001b[0m\u001b[0;34m\u001b[0m\u001b[0;34m\u001b[0m\u001b[0m\n\u001b[0;32m--> 211\u001b[0;31m             \u001b[0;32mreturn\u001b[0m \u001b[0mfunc\u001b[0m\u001b[0;34m(\u001b[0m\u001b[0;34m*\u001b[0m\u001b[0margs\u001b[0m\u001b[0;34m,\u001b[0m \u001b[0;34m**\u001b[0m\u001b[0mkwargs\u001b[0m\u001b[0;34m)\u001b[0m\u001b[0;34m\u001b[0m\u001b[0;34m\u001b[0m\u001b[0m\n\u001b[0m\u001b[1;32m    212\u001b[0m \u001b[0;34m\u001b[0m\u001b[0m\n\u001b[1;32m    213\u001b[0m         \u001b[0;32mreturn\u001b[0m \u001b[0mcast\u001b[0m\u001b[0;34m(\u001b[0m\u001b[0mF\u001b[0m\u001b[0;34m,\u001b[0m \u001b[0mwrapper\u001b[0m\u001b[0;34m)\u001b[0m\u001b[0;34m\u001b[0m\u001b[0;34m\u001b[0m\u001b[0m\n",
            "\u001b[0;32m/usr/local/lib/python3.10/dist-packages/pandas/util/_decorators.py\u001b[0m in \u001b[0;36mwrapper\u001b[0;34m(*args, **kwargs)\u001b[0m\n\u001b[1;32m    329\u001b[0m                     \u001b[0mstacklevel\u001b[0m\u001b[0;34m=\u001b[0m\u001b[0mfind_stack_level\u001b[0m\u001b[0;34m(\u001b[0m\u001b[0;34m)\u001b[0m\u001b[0;34m,\u001b[0m\u001b[0;34m\u001b[0m\u001b[0;34m\u001b[0m\u001b[0m\n\u001b[1;32m    330\u001b[0m                 )\n\u001b[0;32m--> 331\u001b[0;31m             \u001b[0;32mreturn\u001b[0m \u001b[0mfunc\u001b[0m\u001b[0;34m(\u001b[0m\u001b[0;34m*\u001b[0m\u001b[0margs\u001b[0m\u001b[0;34m,\u001b[0m \u001b[0;34m**\u001b[0m\u001b[0mkwargs\u001b[0m\u001b[0;34m)\u001b[0m\u001b[0;34m\u001b[0m\u001b[0;34m\u001b[0m\u001b[0m\n\u001b[0m\u001b[1;32m    332\u001b[0m \u001b[0;34m\u001b[0m\u001b[0m\n\u001b[1;32m    333\u001b[0m         \u001b[0;31m# error: \"Callable[[VarArg(Any), KwArg(Any)], Any]\" has no\u001b[0m\u001b[0;34m\u001b[0m\u001b[0;34m\u001b[0m\u001b[0m\n",
            "\u001b[0;32m/usr/local/lib/python3.10/dist-packages/pandas/io/parsers/readers.py\u001b[0m in \u001b[0;36mread_csv\u001b[0;34m(filepath_or_buffer, sep, delimiter, header, names, index_col, usecols, squeeze, prefix, mangle_dupe_cols, dtype, engine, converters, true_values, false_values, skipinitialspace, skiprows, skipfooter, nrows, na_values, keep_default_na, na_filter, verbose, skip_blank_lines, parse_dates, infer_datetime_format, keep_date_col, date_parser, dayfirst, cache_dates, iterator, chunksize, compression, thousands, decimal, lineterminator, quotechar, quoting, doublequote, escapechar, comment, encoding, encoding_errors, dialect, error_bad_lines, warn_bad_lines, on_bad_lines, delim_whitespace, low_memory, memory_map, float_precision, storage_options)\u001b[0m\n\u001b[1;32m    948\u001b[0m     \u001b[0mkwds\u001b[0m\u001b[0;34m.\u001b[0m\u001b[0mupdate\u001b[0m\u001b[0;34m(\u001b[0m\u001b[0mkwds_defaults\u001b[0m\u001b[0;34m)\u001b[0m\u001b[0;34m\u001b[0m\u001b[0;34m\u001b[0m\u001b[0m\n\u001b[1;32m    949\u001b[0m \u001b[0;34m\u001b[0m\u001b[0m\n\u001b[0;32m--> 950\u001b[0;31m     \u001b[0;32mreturn\u001b[0m \u001b[0m_read\u001b[0m\u001b[0;34m(\u001b[0m\u001b[0mfilepath_or_buffer\u001b[0m\u001b[0;34m,\u001b[0m \u001b[0mkwds\u001b[0m\u001b[0;34m)\u001b[0m\u001b[0;34m\u001b[0m\u001b[0;34m\u001b[0m\u001b[0m\n\u001b[0m\u001b[1;32m    951\u001b[0m \u001b[0;34m\u001b[0m\u001b[0m\n\u001b[1;32m    952\u001b[0m \u001b[0;34m\u001b[0m\u001b[0m\n",
            "\u001b[0;32m/usr/local/lib/python3.10/dist-packages/pandas/io/parsers/readers.py\u001b[0m in \u001b[0;36m_read\u001b[0;34m(filepath_or_buffer, kwds)\u001b[0m\n\u001b[1;32m    603\u001b[0m \u001b[0;34m\u001b[0m\u001b[0m\n\u001b[1;32m    604\u001b[0m     \u001b[0;31m# Create the parser.\u001b[0m\u001b[0;34m\u001b[0m\u001b[0;34m\u001b[0m\u001b[0m\n\u001b[0;32m--> 605\u001b[0;31m     \u001b[0mparser\u001b[0m \u001b[0;34m=\u001b[0m \u001b[0mTextFileReader\u001b[0m\u001b[0;34m(\u001b[0m\u001b[0mfilepath_or_buffer\u001b[0m\u001b[0;34m,\u001b[0m \u001b[0;34m**\u001b[0m\u001b[0mkwds\u001b[0m\u001b[0;34m)\u001b[0m\u001b[0;34m\u001b[0m\u001b[0;34m\u001b[0m\u001b[0m\n\u001b[0m\u001b[1;32m    606\u001b[0m \u001b[0;34m\u001b[0m\u001b[0m\n\u001b[1;32m    607\u001b[0m     \u001b[0;32mif\u001b[0m \u001b[0mchunksize\u001b[0m \u001b[0;32mor\u001b[0m \u001b[0miterator\u001b[0m\u001b[0;34m:\u001b[0m\u001b[0;34m\u001b[0m\u001b[0;34m\u001b[0m\u001b[0m\n",
            "\u001b[0;32m/usr/local/lib/python3.10/dist-packages/pandas/io/parsers/readers.py\u001b[0m in \u001b[0;36m__init__\u001b[0;34m(self, f, engine, **kwds)\u001b[0m\n\u001b[1;32m   1440\u001b[0m \u001b[0;34m\u001b[0m\u001b[0m\n\u001b[1;32m   1441\u001b[0m         \u001b[0mself\u001b[0m\u001b[0;34m.\u001b[0m\u001b[0mhandles\u001b[0m\u001b[0;34m:\u001b[0m \u001b[0mIOHandles\u001b[0m \u001b[0;34m|\u001b[0m \u001b[0;32mNone\u001b[0m \u001b[0;34m=\u001b[0m \u001b[0;32mNone\u001b[0m\u001b[0;34m\u001b[0m\u001b[0;34m\u001b[0m\u001b[0m\n\u001b[0;32m-> 1442\u001b[0;31m         \u001b[0mself\u001b[0m\u001b[0;34m.\u001b[0m\u001b[0m_engine\u001b[0m \u001b[0;34m=\u001b[0m \u001b[0mself\u001b[0m\u001b[0;34m.\u001b[0m\u001b[0m_make_engine\u001b[0m\u001b[0;34m(\u001b[0m\u001b[0mf\u001b[0m\u001b[0;34m,\u001b[0m \u001b[0mself\u001b[0m\u001b[0;34m.\u001b[0m\u001b[0mengine\u001b[0m\u001b[0;34m)\u001b[0m\u001b[0;34m\u001b[0m\u001b[0;34m\u001b[0m\u001b[0m\n\u001b[0m\u001b[1;32m   1443\u001b[0m \u001b[0;34m\u001b[0m\u001b[0m\n\u001b[1;32m   1444\u001b[0m     \u001b[0;32mdef\u001b[0m \u001b[0mclose\u001b[0m\u001b[0;34m(\u001b[0m\u001b[0mself\u001b[0m\u001b[0;34m)\u001b[0m \u001b[0;34m->\u001b[0m \u001b[0;32mNone\u001b[0m\u001b[0;34m:\u001b[0m\u001b[0;34m\u001b[0m\u001b[0;34m\u001b[0m\u001b[0m\n",
            "\u001b[0;32m/usr/local/lib/python3.10/dist-packages/pandas/io/parsers/readers.py\u001b[0m in \u001b[0;36m_make_engine\u001b[0;34m(self, f, engine)\u001b[0m\n\u001b[1;32m   1733\u001b[0m                 \u001b[0;32mif\u001b[0m \u001b[0;34m\"b\"\u001b[0m \u001b[0;32mnot\u001b[0m \u001b[0;32min\u001b[0m \u001b[0mmode\u001b[0m\u001b[0;34m:\u001b[0m\u001b[0;34m\u001b[0m\u001b[0;34m\u001b[0m\u001b[0m\n\u001b[1;32m   1734\u001b[0m                     \u001b[0mmode\u001b[0m \u001b[0;34m+=\u001b[0m \u001b[0;34m\"b\"\u001b[0m\u001b[0;34m\u001b[0m\u001b[0;34m\u001b[0m\u001b[0m\n\u001b[0;32m-> 1735\u001b[0;31m             self.handles = get_handle(\n\u001b[0m\u001b[1;32m   1736\u001b[0m                 \u001b[0mf\u001b[0m\u001b[0;34m,\u001b[0m\u001b[0;34m\u001b[0m\u001b[0;34m\u001b[0m\u001b[0m\n\u001b[1;32m   1737\u001b[0m                 \u001b[0mmode\u001b[0m\u001b[0;34m,\u001b[0m\u001b[0;34m\u001b[0m\u001b[0;34m\u001b[0m\u001b[0m\n",
            "\u001b[0;32m/usr/local/lib/python3.10/dist-packages/pandas/io/common.py\u001b[0m in \u001b[0;36mget_handle\u001b[0;34m(path_or_buf, mode, encoding, compression, memory_map, is_text, errors, storage_options)\u001b[0m\n\u001b[1;32m    854\u001b[0m         \u001b[0;32mif\u001b[0m \u001b[0mioargs\u001b[0m\u001b[0;34m.\u001b[0m\u001b[0mencoding\u001b[0m \u001b[0;32mand\u001b[0m \u001b[0;34m\"b\"\u001b[0m \u001b[0;32mnot\u001b[0m \u001b[0;32min\u001b[0m \u001b[0mioargs\u001b[0m\u001b[0;34m.\u001b[0m\u001b[0mmode\u001b[0m\u001b[0;34m:\u001b[0m\u001b[0;34m\u001b[0m\u001b[0;34m\u001b[0m\u001b[0m\n\u001b[1;32m    855\u001b[0m             \u001b[0;31m# Encoding\u001b[0m\u001b[0;34m\u001b[0m\u001b[0;34m\u001b[0m\u001b[0m\n\u001b[0;32m--> 856\u001b[0;31m             handle = open(\n\u001b[0m\u001b[1;32m    857\u001b[0m                 \u001b[0mhandle\u001b[0m\u001b[0;34m,\u001b[0m\u001b[0;34m\u001b[0m\u001b[0;34m\u001b[0m\u001b[0m\n\u001b[1;32m    858\u001b[0m                 \u001b[0mioargs\u001b[0m\u001b[0;34m.\u001b[0m\u001b[0mmode\u001b[0m\u001b[0;34m,\u001b[0m\u001b[0;34m\u001b[0m\u001b[0;34m\u001b[0m\u001b[0m\n",
            "\u001b[0;31mFileNotFoundError\u001b[0m: [Errno 2] No such file or directory: 'tempData.csv'"
          ]
        }
      ]
    },
    {
      "cell_type": "code",
      "source": [
        "data"
      ],
      "metadata": {
        "id": "pUkEn-fxtOjm"
      },
      "execution_count": null,
      "outputs": []
    },
    {
      "cell_type": "code",
      "source": [
        "data.dtypes"
      ],
      "metadata": {
        "id": "9ngoCy90xvlf"
      },
      "execution_count": null,
      "outputs": []
    },
    {
      "cell_type": "code",
      "source": [
        "tempData"
      ],
      "metadata": {
        "id": "OQ8gHPhgxVr0"
      },
      "execution_count": null,
      "outputs": []
    },
    {
      "cell_type": "code",
      "source": [
        "tempData.dtypes"
      ],
      "metadata": {
        "id": "qrohbZ9Jxzvg"
      },
      "execution_count": null,
      "outputs": []
    },
    {
      "cell_type": "markdown",
      "source": [
        "In the next steps I set the 'OCCUR_DATE' column to be a datetime and set it as the index. Upon further analysis I realize this is a problem because multiple shootings happen on the same day. This means the index is not unique. I still need the individual shootings to utilize each Lat and Lon for geospacial analysis later. This is fixed in the next few cells. Also, before I set the index as the date, I pull dates to other dataframes such as data06 or data20 which has data corresponding to only that year."
      ],
      "metadata": {
        "id": "DHXZ1tqHFdT7"
      }
    },
    {
      "cell_type": "code",
      "source": [
        "#Setting occur_date to dateTime for time series analysis\n",
        "\n",
        "data['OCCUR_DATE'] = pd.to_datetime(data['OCCUR_DATE'])"
      ],
      "metadata": {
        "id": "HsPV9yqqX6ou"
      },
      "execution_count": null,
      "outputs": []
    },
    {
      "cell_type": "code",
      "source": [
        "data"
      ],
      "metadata": {
        "id": "oI7QSj1ACTAU"
      },
      "execution_count": null,
      "outputs": []
    },
    {
      "cell_type": "code",
      "source": [
        "start_date = '01/01/2006'\n",
        "end_date = '12/31/2006'\n",
        "start07= '01/01/2007'\n",
        "end07='12/31/2007'\n",
        "start19='01/01/2019'\n",
        "end19='12/31/2019'\n",
        "start20='01/01/20'\n",
        "end20='12/31/2020'"
      ],
      "metadata": {
        "id": "98DJxiSOGmYZ"
      },
      "execution_count": null,
      "outputs": []
    },
    {
      "cell_type": "code",
      "source": [
        "#Dropping all the extra columns that are not needed for this project\n",
        "\n",
        "\n",
        "data = data.drop(columns = ['OCCUR_TIME', 'PRECINCT', 'JURISDICTION_CODE', 'LOCATION_DESC',\n",
        "                            'PERP_AGE_GROUP', 'PERP_SEX', 'PERP_RACE', 'VIC_AGE_GROUP', 'VIC_SEX'\n",
        "                            ,'VIC_RACE', 'X_COORD_CD', 'Y_COORD_CD'])"
      ],
      "metadata": {
        "id": "v_sGvTAB1hYN"
      },
      "execution_count": null,
      "outputs": []
    },
    {
      "cell_type": "code",
      "source": [
        "mask06 = (data['OCCUR_DATE'] > start_date) & (data['OCCUR_DATE'] <= end_date)\n",
        "data07 = data[(data['OCCUR_DATE'] > start07) & (data['OCCUR_DATE'] <= end07)]\n",
        "data19 = data[(data['OCCUR_DATE'] > start19) & (data['OCCUR_DATE'] <= end19)]\n",
        "data20 = data[(data['OCCUR_DATE'] > start20) & (data['OCCUR_DATE'] <= end20)]"
      ],
      "metadata": {
        "id": "WwkgZfiHGf-p"
      },
      "execution_count": null,
      "outputs": []
    },
    {
      "cell_type": "code",
      "source": [
        "data06 = data[mask06]"
      ],
      "metadata": {
        "id": "Z1n-DytUG5kk"
      },
      "execution_count": null,
      "outputs": []
    },
    {
      "cell_type": "code",
      "source": [
        "data06"
      ],
      "metadata": {
        "id": "1jW6lxpVHbO8"
      },
      "execution_count": null,
      "outputs": []
    },
    {
      "cell_type": "code",
      "source": [
        "data.set_index('OCCUR_DATE', inplace=True)\n",
        "data06.set_index('OCCUR_DATE', inplace=True)\n",
        "data07.set_index('OCCUR_DATE', inplace=True)\n",
        "data19.set_index('OCCUR_DATE', inplace=True)\n",
        "data20.set_index('OCCUR_DATE', inplace=True)"
      ],
      "metadata": {
        "id": "biHDR0YwHhHN"
      },
      "execution_count": null,
      "outputs": []
    },
    {
      "cell_type": "code",
      "source": [
        "data"
      ],
      "metadata": {
        "id": "_V-zDQkhNDfF"
      },
      "execution_count": null,
      "outputs": []
    },
    {
      "cell_type": "code",
      "source": [
        "data06"
      ],
      "metadata": {
        "id": "WCC4A5xjHjdG"
      },
      "execution_count": null,
      "outputs": []
    },
    {
      "cell_type": "code",
      "source": [],
      "metadata": {
        "id": "pgv2RyWy6H0d"
      },
      "execution_count": null,
      "outputs": []
    },
    {
      "cell_type": "code",
      "source": [
        "data07"
      ],
      "metadata": {
        "id": "avAk4lhnMRi0"
      },
      "execution_count": null,
      "outputs": []
    },
    {
      "cell_type": "markdown",
      "source": [
        "Next I create a pivot table to see the number of shootings per day. Within the next few steps I fix the issue where a shooting does not occur on a day, thus that date is not included in the dataset with a 0 value. Only dates with shooting is within the original dataset. I decided to fix this issue on pivot and not on data becasue data has multiple incidents on the same day, thus not a unique index. Pivot, being an agg of the values, will have unique dates for a group of incidents."
      ],
      "metadata": {
        "id": "sjXqQqiSGWWv"
      }
    },
    {
      "cell_type": "code",
      "source": [
        "pivot = pd.pivot_table(\n",
        "    data = data,\n",
        "    index = \"OCCUR_DATE\",\n",
        "    values = \"INCIDENT_KEY\",\n",
        "    aggfunc='count'\n",
        ")\n",
        "\n",
        "pivot"
      ],
      "metadata": {
        "id": "GiaArUB5cd_W"
      },
      "execution_count": null,
      "outputs": []
    },
    {
      "cell_type": "code",
      "source": [
        "#Missing dates like 2012-02-03 and 2012-02-07\n",
        "\n",
        "pivot['2012/02']"
      ],
      "metadata": {
        "id": "zeJKi14w-Mxu"
      },
      "execution_count": null,
      "outputs": []
    },
    {
      "cell_type": "code",
      "source": [
        "pivot = pivot.asfreq('d')"
      ],
      "metadata": {
        "id": "8uRkC_iMETTK"
      },
      "execution_count": null,
      "outputs": []
    },
    {
      "cell_type": "code",
      "source": [
        "pivot = pivot.fillna(0)"
      ],
      "metadata": {
        "id": "9IlODezp_4KB"
      },
      "execution_count": null,
      "outputs": []
    },
    {
      "cell_type": "code",
      "source": [
        "pivot['2012/02']"
      ],
      "metadata": {
        "id": "1DZTWgBIGQ0C"
      },
      "execution_count": null,
      "outputs": []
    },
    {
      "cell_type": "markdown",
      "source": [
        "Next is a table depicting how many of the shootings where flagged as a murder. Statistical murder flag was described as \"Shooting resulted in the victim’s death which would be counted as a murder\""
      ],
      "metadata": {
        "id": "0PJB_1zDITgM"
      }
    },
    {
      "cell_type": "code",
      "source": [
        "pivot2 = pd.pivot_table(\n",
        "    data = data,\n",
        "    index = \"OCCUR_DATE\",\n",
        "    columns = ['STATISTICAL_MURDER_FLAG'],\n",
        "    values = \"INCIDENT_KEY\",\n",
        "    aggfunc='count',\n",
        "    fill_value = 0\n",
        ")\n",
        "\n",
        "pivot2"
      ],
      "metadata": {
        "id": "QwkQ7_OICFOA"
      },
      "execution_count": null,
      "outputs": []
    },
    {
      "cell_type": "code",
      "source": [
        "count = 0\n",
        "for i in data['INCIDENT_KEY']:\n",
        "  count = count + 1\n",
        "count"
      ],
      "metadata": {
        "id": "p1mXjw4hAznX"
      },
      "execution_count": null,
      "outputs": []
    },
    {
      "cell_type": "code",
      "source": [
        "pivot3 = pd.pivot_table(\n",
        "    data = data,\n",
        "    index = \"BORO\",\n",
        "    values = \"INCIDENT_KEY\",\n",
        "    aggfunc='count',\n",
        "    fill_value = 0\n",
        ")\n",
        "\n",
        "pivot3"
      ],
      "metadata": {
        "id": "VMcsMd56-6PJ"
      },
      "execution_count": null,
      "outputs": []
    },
    {
      "cell_type": "code",
      "source": [
        "data['STATISTICAL_MURDER_FLAG'].sum()"
      ],
      "metadata": {
        "id": "6SjwPEHRErcP"
      },
      "execution_count": null,
      "outputs": []
    },
    {
      "cell_type": "code",
      "source": [
        "rcParams['figure.figsize'] = (16, 6)\n"
      ],
      "metadata": {
        "id": "ZPTfdMvRLgHO"
      },
      "execution_count": null,
      "outputs": []
    },
    {
      "cell_type": "code",
      "source": [
        "pivot.plot()\n",
        "plt.show()\n",
        "\n",
        "#Plot showing the number of shootings per day from 2006 - 2020"
      ],
      "metadata": {
        "id": "tTehC6XULxEt"
      },
      "execution_count": null,
      "outputs": []
    },
    {
      "cell_type": "code",
      "source": [
        "pivot2.plot()\n",
        "plt.show()\n",
        "\n",
        "#Plot showing number of shootings (and statistical murder flag) from 2006 - 2020\n",
        "#Quickly can notice spikes in 2011 and 2020, lets look at these years and the year before it\n"
      ],
      "metadata": {
        "id": "mrjE6Sj4NFIk"
      },
      "execution_count": null,
      "outputs": []
    },
    {
      "cell_type": "code",
      "source": [
        "#Difference between 2010 and 2011, indicating Sept spike\n",
        "\n",
        "pivot['2010':'2011'].plot()\n",
        "plt.show()"
      ],
      "metadata": {
        "id": "P-pCUH4ZQd7y"
      },
      "execution_count": null,
      "outputs": []
    },
    {
      "cell_type": "code",
      "source": [
        "#The difference between 2019 and 2020, indicating July Spike\n",
        "\n",
        "pivot['2019':'2020'].plot()\n",
        "plt.show()"
      ],
      "metadata": {
        "id": "xqmjUYb9NW5D"
      },
      "execution_count": null,
      "outputs": []
    },
    {
      "cell_type": "markdown",
      "source": [
        "From the graphs we can see up until 2020 shootings have been fairly consistent. There is an apparent rise in 2020 with an obvious spike at some point mid 2020. We can look into this further."
      ],
      "metadata": {
        "id": "cyFOiYJFT-7q"
      }
    },
    {
      "cell_type": "code",
      "source": [
        "pivot.max()"
      ],
      "metadata": {
        "id": "NohmovRPMQ48"
      },
      "execution_count": null,
      "outputs": []
    },
    {
      "cell_type": "code",
      "source": [
        "pivot.min()"
      ],
      "metadata": {
        "id": "0aMY2ijOYbmk"
      },
      "execution_count": null,
      "outputs": []
    },
    {
      "cell_type": "code",
      "source": [
        "pivot2['2020-06':'2020-07'].plot()"
      ],
      "metadata": {
        "id": "JOS45UA0yesx"
      },
      "execution_count": null,
      "outputs": []
    },
    {
      "cell_type": "markdown",
      "source": [
        "With the above graph we can see it's July 4th-5th when this huge spike takes place. Some research led to the following news articles:\n",
        "\n",
        "https://nypost.com/2020/07/05/violent-july-4th-weekend-sees-at-least-10-shot-2-dead-in-nyc/\n",
        "\n",
        "https://www.nbcnewyork.com/news/local/bullet-strikes-nypd-patrol-vehicle-misses-officers-sitting-inside/2500243/\n",
        "\n",
        "We can also see while there is a rise in consistent shootings between mid June and mid July, the fatality rate stays relatively flat (besides the one spike on July 4th/5th)."
      ],
      "metadata": {
        "id": "ANL5WxGEUut3"
      }
    },
    {
      "cell_type": "code",
      "source": [
        "pivot['2020/07/04':'2020/07/05']\n",
        "\n",
        "#Numbers from july 4th and july 5th of 2020, the major spike."
      ],
      "metadata": {
        "id": "nYRTTQJSG9Iw"
      },
      "execution_count": null,
      "outputs": []
    },
    {
      "cell_type": "code",
      "source": [
        "pivot2['2020/07/04':'2020/07/05']\n",
        "\n",
        "#Murder numbers from the same dates"
      ],
      "metadata": {
        "id": "3y9Ul9mdG6pY"
      },
      "execution_count": null,
      "outputs": []
    },
    {
      "cell_type": "code",
      "source": [
        "#2011 spike\n",
        "\n",
        "pivot2['2011-08':'2011-09'].plot()"
      ],
      "metadata": {
        "id": "4uO_k-DJRQyp"
      },
      "execution_count": null,
      "outputs": []
    },
    {
      "cell_type": "markdown",
      "source": [
        "We can see another huge spike over Labor Day weekend in September 2011. Again, while shooting incidents spiked, fatalities had much smaller corresponding spikes\n",
        "\n",
        "https://www.nbcnewyork.com/news/local/labor-day-violence-new-york-city-shootings/1927858/"
      ],
      "metadata": {
        "id": "d9gfVIDhRSpQ"
      }
    },
    {
      "cell_type": "code",
      "source": [
        "pivot['2011/09/03':'2011/09/05']"
      ],
      "metadata": {
        "id": "HiDSzzFTSCaG"
      },
      "execution_count": null,
      "outputs": []
    },
    {
      "cell_type": "code",
      "source": [
        "pivot2['2011/09/03':'2011/09/05']"
      ],
      "metadata": {
        "id": "38i8eN5nSEGP"
      },
      "execution_count": null,
      "outputs": []
    },
    {
      "cell_type": "code",
      "source": [
        "#March - June of 2019\n",
        "#Compared to March - June of 2020\n",
        "\n",
        "print(pivot['2019/03':'2019/06'].sum())\n",
        "print(pivot['2020/03':'2020/06'].sum())"
      ],
      "metadata": {
        "id": "uITVk33GnY6a"
      },
      "execution_count": null,
      "outputs": []
    },
    {
      "cell_type": "code",
      "source": [],
      "metadata": {
        "id": "iaDadMjzHgt9"
      },
      "execution_count": null,
      "outputs": []
    },
    {
      "cell_type": "markdown",
      "source": [
        "Various months through the beginning of covid can be looked at with the above cell. I would have expected shootings to be lower with everyone mandated to stay at home but shootings were higher in March/April of 2020 than they were in 2019 (8 incidents higher). When including May there is about a 60 incident increase and with the inclusion of June the increase of shooting incidents rose to over 220 more incidents than the same period of the year prior."
      ],
      "metadata": {
        "id": "d5sQzDZFo-Zf"
      }
    },
    {
      "cell_type": "code",
      "source": [
        "#add text, graph 06-20\n",
        "ax = pivot.plot(alpha=0.25)\n",
        "pivot.resample('M').mean().plot(ax=ax)\n",
        "pivot.rolling(20).mean().plot(ax=ax)\n",
        "ax.legend([\"daily data\", \"montly average\", \"roling mean\"])\n",
        "plt.show()"
      ],
      "metadata": {
        "id": "sfLv5f46yvrn"
      },
      "execution_count": null,
      "outputs": []
    },
    {
      "cell_type": "markdown",
      "source": [
        "This is a graph of all the shooting incidents from 2006 - 2020. The incidents seems to have followed a consistent wave from 2006 until 2012 where it then had less severe apexes. From 2017-2019 the waves become relatively flat before the obvious spike in mid 2020.\n",
        "\n",
        "Next is a graph of just 2019-2020 incidents"
      ],
      "metadata": {
        "id": "Z-W3QQhmyMHD"
      }
    },
    {
      "cell_type": "code",
      "source": [
        "pivot['2019':'2020'].plot(grid=True)\n",
        "\n",
        "#see a huge rise in shootings from 2019 to 2020"
      ],
      "metadata": {
        "id": "58XgD2eUFiGt"
      },
      "execution_count": null,
      "outputs": []
    },
    {
      "cell_type": "code",
      "source": [
        "ax = pivot['2019':'2020'].plot(alpha=0.25)\n",
        "pivot['2019':'2020'].resample('M').mean().plot(ax=ax)\n",
        "pivot['2019':'2020'].rolling(15).mean().plot(ax=ax)\n",
        "ax.legend([\"daily data\", \"montly average\", \"roling mean\"])\n",
        "plt.show()"
      ],
      "metadata": {
        "id": "KhswRuW3-ggP"
      },
      "execution_count": null,
      "outputs": []
    },
    {
      "cell_type": "code",
      "source": [
        "tempData['DATE'] = pd.to_datetime(tempData['DATE'])"
      ],
      "metadata": {
        "id": "VgnI--NwoVbY"
      },
      "execution_count": null,
      "outputs": []
    },
    {
      "cell_type": "code",
      "source": [
        "tempData.set_index('DATE', inplace=True)"
      ],
      "metadata": {
        "id": "P0nACCDSoom1"
      },
      "execution_count": null,
      "outputs": []
    },
    {
      "cell_type": "code",
      "source": [
        "tempData = tempData.drop(columns=['STATION', 'NAME','LATITUDE', 'LONGITUDE', 'ELEVATION'])"
      ],
      "metadata": {
        "id": "xHshsHV5ow-6"
      },
      "execution_count": null,
      "outputs": []
    },
    {
      "cell_type": "code",
      "source": [
        "maxRain = tempData['PRCP'].max()\n",
        "print(\"Max Rainfall: \", maxRain)\n",
        "print('Max Rainfall Date:', tempData.index[tempData[\"PRCP\"]==maxRain].tolist(),'\\n')\n",
        "\n",
        "hottestDay = tempData['TMAX'].max()\n",
        "print(\"Hottest day: \",hottestDay)\n",
        "print('Hottest Date:', tempData.index[tempData[\"TMAX\"]==hottestDay].tolist(),'\\n')\n",
        "\n",
        "coldestDay = tempData['TMIN'].min()\n",
        "print(\"Coldest day: \",coldestDay)\n",
        "print('Coldest Date:', tempData.index[tempData[\"TMIN\"]==coldestDay].tolist(),'\\n')\n"
      ],
      "metadata": {
        "id": "ZmaiKhHupJXt"
      },
      "execution_count": null,
      "outputs": []
    },
    {
      "cell_type": "markdown",
      "source": [
        "\n",
        "Just trying to find anomolies and extremes in weather, I realized the day with the highest precipitation in New York City (Central Park) was in fact not Hurricane Sandy but rather a nor'easter back in 2007 which accumulated to 7.57 inches of rainfall.\n",
        "\n",
        "https://www.weather.gov/media/phi/StormReports/04162007.pdf\n",
        "\n",
        "https://www.nytimes.com/2007/04/16/nyregion/16storm.html"
      ],
      "metadata": {
        "id": "11HLCNPJqjn_"
      }
    },
    {
      "cell_type": "code",
      "source": [
        "maxRainDate = '2007/04'\n",
        "maxTempDate = '2011/07'\n",
        "minTempDate = '2016/02'"
      ],
      "metadata": {
        "id": "vqwBkKpKqiLG"
      },
      "execution_count": null,
      "outputs": []
    },
    {
      "cell_type": "code",
      "source": [
        "#Month with coldest date\n",
        "#Coldest date being 2016-02-14\n",
        "\n",
        "pivot[minTempDate].plot(grid=True)\n",
        "\n",
        "print(pivot[minTempDate].sum())\n",
        "\n",
        "#Never reaching double digits and even had days of 0 incidents multiple times\n"
      ],
      "metadata": {
        "id": "BFeQqtlQ07BS"
      },
      "execution_count": null,
      "outputs": []
    },
    {
      "cell_type": "code",
      "source": [
        "#Month with hottest date\n",
        "#Hottest date being 2011-07-22\n",
        "\n",
        "print(pivot[maxTempDate].sum())\n",
        "\n",
        "pivot[maxTempDate].plot(grid=True)\n",
        "\n",
        "#Consistently peaking into double digits, as high as 17 shootings in a day.\n",
        "\n"
      ],
      "metadata": {
        "id": "1tUt2wcOIR5m"
      },
      "execution_count": null,
      "outputs": []
    },
    {
      "cell_type": "code",
      "source": [
        "#Month with most rain date\n",
        "#Date with most rainfall being 2007-04-15\n",
        "\n",
        "print(pivot[maxRainDate].sum())\n",
        "\n",
        "pivot[maxRainDate].plot(grid=True)"
      ],
      "metadata": {
        "id": "enKsAtWKI3kZ"
      },
      "execution_count": null,
      "outputs": []
    },
    {
      "cell_type": "code",
      "source": [
        "shTemp = pd.merge(pivot, tempData, left_index=True, right_index=True)"
      ],
      "metadata": {
        "id": "S0Yg_LTZMvUY"
      },
      "execution_count": null,
      "outputs": []
    },
    {
      "cell_type": "code",
      "source": [
        "shTemp"
      ],
      "metadata": {
        "id": "VAS1Uk4fNHdK"
      },
      "execution_count": null,
      "outputs": []
    },
    {
      "cell_type": "code",
      "source": [
        "ax = shTemp['INCIDENT_KEY'].plot(alpha=0.25)\n",
        "shTemp['INCIDENT_KEY'].resample('M').mean().plot(ax=ax)\n",
        "shTemp['INCIDENT_KEY'].rolling(15).mean().plot(ax=ax)\n",
        "shTemp['TAVG'].plot(alpha=0.25,ax=ax)\n",
        "ax.legend([\"daily data\", \"montly average\", \"roling mean\", \"temperature\"])\n",
        "plt.show()\n",
        "\n",
        "#2006-2020\n",
        "#Too much data, not really observable. Can slightly see waves corresponding to temps\n",
        "#but no real conclusions can be made"
      ],
      "metadata": {
        "id": "x2C11wT7QSTp"
      },
      "execution_count": null,
      "outputs": []
    },
    {
      "cell_type": "markdown",
      "source": [
        "We can see below with 2006-2010 data, the incidents followed the trend of while it was warmer out, shooting incidents rose while when it was colder out, shooting incidents were less numerous. Whether this was a causation can not be determined, just a correlation. The question can still be asked whether the heat induces individuals to commit gun violence or the heat causes more people to be outside which then promotes more gun violence."
      ],
      "metadata": {
        "id": "bj7YCRcd3eZX"
      }
    },
    {
      "cell_type": "code",
      "source": [
        "ax = shTemp['INCIDENT_KEY']['2006':'2010'].plot(alpha=0.25)\n",
        "shTemp['INCIDENT_KEY']['2006':'2010'].resample('M').mean().plot(ax=ax)\n",
        "shTemp['INCIDENT_KEY']['2006':'2010'].rolling(15).mean().plot(ax=ax)\n",
        "shTemp['TAVG']['2006':'2010'].plot(alpha=0.25,ax=ax)\n",
        "ax.legend([\"daily data\", \"montly average\", \"roling mean\", \"temperature\"])\n",
        "plt.show()"
      ],
      "metadata": {
        "id": "_TkI_6g50A4a"
      },
      "execution_count": null,
      "outputs": []
    },
    {
      "cell_type": "markdown",
      "source": [
        "Unlike the incidents from 2006-2010, 2018-2020 incident counts did not follow temperature data as closely. Waves in this plot is almost indiscernable and shows a period of time of relatively low gun violence."
      ],
      "metadata": {
        "id": "PLdXfH2g42J1"
      }
    },
    {
      "cell_type": "code",
      "source": [
        "ax = shTemp['INCIDENT_KEY']['2018':'2020'].plot(alpha=0.25)\n",
        "shTemp['INCIDENT_KEY']['2018':'2020'].resample('M').mean().plot(ax=ax)\n",
        "shTemp['INCIDENT_KEY']['2018':'2020'].rolling(15).mean().plot(ax=ax)\n",
        "shTemp['TAVG']['2018':'2020'].plot(alpha=0.25,ax=ax)\n",
        "ax.legend([\"daily data\", \"montly average\", \"roling mean\", \"temperature\"])\n",
        "plt.show()\n",
        "\n",
        "#2018-2020"
      ],
      "metadata": {
        "id": "ej4UguTYJ7DW"
      },
      "execution_count": null,
      "outputs": []
    },
    {
      "cell_type": "code",
      "source": [
        "ax = shTemp['INCIDENT_KEY']['2018':'2020'].plot(alpha=0.25)\n",
        "shTemp['INCIDENT_KEY']['2018':'2020'].resample('M').mean().plot(ax=ax)\n",
        "shTemp['INCIDENT_KEY']['2018':'2020'].rolling(25).mean().plot(ax=ax)\n",
        "shTemp['TAVG']['2018':'2020'].plot(alpha=0.25,ax=ax)\n",
        "shTemp['TAVG']['2018':'2020'].rolling(30).mean().plot(ax=ax)\n",
        "ax.legend([\"daily data\", \"montly average\", \"roling mean\", \" average temperature\", \"rolling mean temp\"])\n",
        "plt.show()"
      ],
      "metadata": {
        "id": "leV73WQ7K_iW"
      },
      "execution_count": null,
      "outputs": []
    },
    {
      "cell_type": "code",
      "source": [
        "ax = shTemp['INCIDENT_KEY']['2020'].plot(alpha=0.25)\n",
        "shTemp['INCIDENT_KEY']['2020'].resample('M').mean().plot(ax=ax)\n",
        "shTemp['INCIDENT_KEY']['2020'].rolling(15).mean().plot(ax=ax)\n",
        "shTemp['TAVG']['2020'].plot(alpha=0.25,ax=ax)\n",
        "ax.legend([\"daily data\", \"montly average\", \"roling mean\", \"temperature\"])\n",
        "plt.show()"
      ],
      "metadata": {
        "id": "-SIGFTrCMDe0"
      },
      "execution_count": null,
      "outputs": []
    },
    {
      "cell_type": "markdown",
      "source": [
        "Taking the data from 2019 and 2020 and using decompose, we can see that there are constantly upwards and downwards trends throughout the year. There is the obvious consistantly long upward trend heading into July 2020 but since July there was a downward trend, never attaining that apex again. Overall, looking where the trend starts in January 2019 and ends in Dec 2020, the data ends at a higher point than where it began."
      ],
      "metadata": {
        "id": "-EHJf7QB1dF9"
      }
    },
    {
      "cell_type": "code",
      "source": [
        "from statsmodels.tsa.seasonal import seasonal_decompose\n",
        "\n",
        "\n",
        "decomposition = seasonal_decompose(pivot['2019':'2020'], model='additive', freq=12)\n",
        "fig = plt.figure()\n",
        "fig = decomposition.plot()"
      ],
      "metadata": {
        "id": "KvF-KjCKy6ne"
      },
      "execution_count": null,
      "outputs": []
    },
    {
      "cell_type": "code",
      "source": [
        "decomposition.trend.plot()"
      ],
      "metadata": {
        "id": "0bVFj6tQ0kfB"
      },
      "execution_count": null,
      "outputs": []
    },
    {
      "cell_type": "code",
      "source": [
        "shapefiles_zipcodes = \"http://www2.census.gov/geo/tiger/GENZ2017/shp/cb_2017_us_zcta510_500k.zip\""
      ],
      "metadata": {
        "id": "eCxa0J0yPgYC"
      },
      "execution_count": null,
      "outputs": []
    },
    {
      "cell_type": "code",
      "source": [
        "!sudo pip3 install -U -qq geopandas fiona pyproj descartes pysal rtree scipy pykdtree pyepsg pillow OWSLib geoplot"
      ],
      "metadata": {
        "id": "93St3YAEPj_3"
      },
      "execution_count": null,
      "outputs": []
    },
    {
      "cell_type": "code",
      "source": [
        "import geopandas as gpd"
      ],
      "metadata": {
        "id": "bIJ3z_qePlf7"
      },
      "execution_count": null,
      "outputs": []
    },
    {
      "cell_type": "code",
      "source": [
        "df_zipcodes = gpd.read_file(shapefiles_zipcodes)"
      ],
      "metadata": {
        "id": "npr-ZtE6QFJJ"
      },
      "execution_count": null,
      "outputs": []
    },
    {
      "cell_type": "code",
      "source": [
        "df_zipcodes = df_zipcodes[ df_zipcodes.ZCTA5CE10 >='10001' ]  # New York\n",
        "df_zipcodes = df_zipcodes[ df_zipcodes.ZCTA5CE10 <='11698' ]  # New York"
      ],
      "metadata": {
        "id": "nASmeoQMQF-A"
      },
      "execution_count": null,
      "outputs": []
    },
    {
      "cell_type": "code",
      "source": [
        "data.plot(kind='scatter', y='Latitude', x ='Longitude')"
      ],
      "metadata": {
        "id": "ikZrZaDXOzc7"
      },
      "execution_count": null,
      "outputs": []
    },
    {
      "cell_type": "code",
      "source": [
        "ax1 = df_zipcodes.plot(\n",
        "    figsize=(20,20),\n",
        "    linewidth=0.2,\n",
        "    color='white',\n",
        "    edgecolor='black'\n",
        ")\n",
        "\n",
        "ax1.set_ylim(40.5,41.0)\n",
        "\n",
        "plt.scatter(data['Longitude'], data['Latitude'], s=1)\n",
        "plt.show()"
      ],
      "metadata": {
        "id": "KDWyER83QSUX"
      },
      "execution_count": null,
      "outputs": []
    },
    {
      "cell_type": "code",
      "source": [
        "ax1 = df_zipcodes.plot(\n",
        "    figsize=(20,20),\n",
        "    linewidth=0.2,\n",
        "    color='white',\n",
        "    edgecolor='black'\n",
        ")\n",
        "\n",
        "ax1.set_ylim(40.5,41.0)\n",
        "\n",
        "plt.scatter(data['Longitude'], data['Latitude'], s=0.5, alpha=0.5)\n",
        "plt.show()\n",
        "\n",
        "#Data from 2006 - 2020\n",
        "#Same map as above, with different s and alpha values"
      ],
      "metadata": {
        "id": "s9TYGVOoUION"
      },
      "execution_count": null,
      "outputs": []
    },
    {
      "cell_type": "code",
      "source": [
        "#Now let's compare maps with data from 2006/2007 to maps from 2019/2020\n",
        "\n",
        "ax1 = df_zipcodes.plot(\n",
        "    figsize=(20,20),\n",
        "    linewidth=0.2,\n",
        "    color='white',\n",
        "    edgecolor='black'\n",
        ")\n",
        "\n",
        "ax1.set_ylim(40.5,41.0)\n",
        "#2006 data maps\n",
        "plt.scatter(data06['Longitude'], data06['Latitude'], s=1)\n",
        "plt.show()\n",
        "\n"
      ],
      "metadata": {
        "id": "HvVs6XArdpjq"
      },
      "execution_count": null,
      "outputs": []
    },
    {
      "cell_type": "code",
      "source": [
        "ax1 = df_zipcodes.plot(\n",
        "    figsize=(20,20),\n",
        "    linewidth=0.2,\n",
        "    color='white',\n",
        "    edgecolor='black'\n",
        ")\n",
        "\n",
        "ax1.set_ylim(40.5,41.0)\n",
        "plt.scatter(data20['Longitude'], data20['Latitude'], s=1)\n",
        "plt.show()\n",
        "\n",
        "#2020 data map"
      ],
      "metadata": {
        "id": "-57A38sreEc-"
      },
      "execution_count": null,
      "outputs": []
    },
    {
      "cell_type": "markdown",
      "source": [
        "The 2006 map and the 2020 map is very similar. The main density of shootings occur in the same areas around the city, even 14 years apart. I would like to expand on this project in the future with research on these neighborhoods like school funding and after school activities as well as expanding the data to be before 2006. This shows shootings in certain neighborhoods has been a problem for potentially decades, spanning generations."
      ],
      "metadata": {
        "id": "FX6fzr4lgpEv"
      }
    }
  ]
}