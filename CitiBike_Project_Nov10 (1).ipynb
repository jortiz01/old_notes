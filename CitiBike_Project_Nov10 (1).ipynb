{
  "nbformat": 4,
  "nbformat_minor": 0,
  "metadata": {
    "colab": {
      "provenance": []
    },
    "kernelspec": {
      "name": "python3",
      "display_name": "Python 3"
    },
    "language_info": {
      "name": "python"
    }
  },
  "cells": [
    {
      "cell_type": "markdown",
      "metadata": {
        "id": "PePtCVtNP7cN"
      },
      "source": [
        "We will start working with the CitiBike Data from: https://ride.citibikenyc.com/system-data\n",
        "\n",
        "The first data set will be for March 2020:"
      ]
    },
    {
      "cell_type": "code",
      "metadata": {
        "id": "olJ3PzGEP2Zn"
      },
      "source": [
        "import pandas as pd\n",
        "import seaborn as sns\n",
        "import numpy as np"
      ],
      "execution_count": null,
      "outputs": []
    },
    {
      "cell_type": "code",
      "metadata": {
        "id": "R4HvQqFUQdpu"
      },
      "source": [
        "# Plotting setup\n",
        "\n",
        "%matplotlib inline\n",
        "import matplotlib\n",
        "import matplotlib.pyplot as plt\n",
        "\n",
        "plt.rcParams['figure.figsize'] = (20, 20)\n",
        "matplotlib.style.use(['seaborn-talk', 'seaborn-ticks', 'seaborn-whitegrid'])"
      ],
      "execution_count": null,
      "outputs": []
    },
    {
      "cell_type": "code",
      "metadata": {
        "id": "EkqW4t8SQjH0"
      },
      "source": [
        "data = pd.read_csv(\"https://s3.amazonaws.com/tripdata/202003-citibike-tripdata.csv.zip\")"
      ],
      "execution_count": null,
      "outputs": []
    },
    {
      "cell_type": "code",
      "metadata": {
        "colab": {
          "base_uri": "https://localhost:8080/",
          "height": 213
        },
        "id": "As5v1y_CQl_E",
        "outputId": "feee3e64-b781-40ff-ebce-98fc09504017"
      },
      "source": [
        "data.head(3)"
      ],
      "execution_count": null,
      "outputs": [
        {
          "output_type": "execute_result",
          "data": {
            "text/html": [
              "<div>\n",
              "<style scoped>\n",
              "    .dataframe tbody tr th:only-of-type {\n",
              "        vertical-align: middle;\n",
              "    }\n",
              "\n",
              "    .dataframe tbody tr th {\n",
              "        vertical-align: top;\n",
              "    }\n",
              "\n",
              "    .dataframe thead th {\n",
              "        text-align: right;\n",
              "    }\n",
              "</style>\n",
              "<table border=\"1\" class=\"dataframe\">\n",
              "  <thead>\n",
              "    <tr style=\"text-align: right;\">\n",
              "      <th></th>\n",
              "      <th>tripduration</th>\n",
              "      <th>starttime</th>\n",
              "      <th>stoptime</th>\n",
              "      <th>start station id</th>\n",
              "      <th>start station name</th>\n",
              "      <th>start station latitude</th>\n",
              "      <th>start station longitude</th>\n",
              "      <th>end station id</th>\n",
              "      <th>end station name</th>\n",
              "      <th>end station latitude</th>\n",
              "      <th>end station longitude</th>\n",
              "      <th>bikeid</th>\n",
              "      <th>usertype</th>\n",
              "      <th>birth year</th>\n",
              "      <th>gender</th>\n",
              "    </tr>\n",
              "  </thead>\n",
              "  <tbody>\n",
              "    <tr>\n",
              "      <th>0</th>\n",
              "      <td>1589</td>\n",
              "      <td>2020-03-01 00:00:03.6400</td>\n",
              "      <td>2020-03-01 00:26:32.9860</td>\n",
              "      <td>224</td>\n",
              "      <td>Spruce St &amp; Nassau St</td>\n",
              "      <td>40.711464</td>\n",
              "      <td>-74.005524</td>\n",
              "      <td>3574</td>\n",
              "      <td>Prospect Pl &amp; Underhill Ave</td>\n",
              "      <td>40.676969</td>\n",
              "      <td>-73.965790</td>\n",
              "      <td>16214</td>\n",
              "      <td>Subscriber</td>\n",
              "      <td>1980</td>\n",
              "      <td>1</td>\n",
              "    </tr>\n",
              "    <tr>\n",
              "      <th>1</th>\n",
              "      <td>389</td>\n",
              "      <td>2020-03-01 00:00:16.7560</td>\n",
              "      <td>2020-03-01 00:06:46.0620</td>\n",
              "      <td>293</td>\n",
              "      <td>Lafayette St &amp; E 8 St</td>\n",
              "      <td>40.730207</td>\n",
              "      <td>-73.991026</td>\n",
              "      <td>223</td>\n",
              "      <td>W 13 St &amp; 7 Ave</td>\n",
              "      <td>40.737815</td>\n",
              "      <td>-73.999947</td>\n",
              "      <td>29994</td>\n",
              "      <td>Subscriber</td>\n",
              "      <td>1991</td>\n",
              "      <td>2</td>\n",
              "    </tr>\n",
              "    <tr>\n",
              "      <th>2</th>\n",
              "      <td>614</td>\n",
              "      <td>2020-03-01 00:00:20.0580</td>\n",
              "      <td>2020-03-01 00:10:34.2200</td>\n",
              "      <td>379</td>\n",
              "      <td>W 31 St &amp; 7 Ave</td>\n",
              "      <td>40.749156</td>\n",
              "      <td>-73.991600</td>\n",
              "      <td>515</td>\n",
              "      <td>W 43 St &amp; 10 Ave</td>\n",
              "      <td>40.760094</td>\n",
              "      <td>-73.994618</td>\n",
              "      <td>39853</td>\n",
              "      <td>Subscriber</td>\n",
              "      <td>1991</td>\n",
              "      <td>1</td>\n",
              "    </tr>\n",
              "  </tbody>\n",
              "</table>\n",
              "</div>"
            ],
            "text/plain": [
              "   tripduration                 starttime  ... birth year  gender\n",
              "0          1589  2020-03-01 00:00:03.6400  ...       1980       1\n",
              "1           389  2020-03-01 00:00:16.7560  ...       1991       2\n",
              "2           614  2020-03-01 00:00:20.0580  ...       1991       1\n",
              "\n",
              "[3 rows x 15 columns]"
            ]
          },
          "metadata": {},
          "execution_count": 4
        }
      ]
    },
    {
      "cell_type": "markdown",
      "metadata": {
        "id": "01s32-MDReYd"
      },
      "source": [
        "### How many CitiBike Stations are used in this dataset (as either start or end station)"
      ]
    },
    {
      "cell_type": "code",
      "metadata": {
        "id": "d-Rmj5VVRjcu"
      },
      "source": [
        "stations = set(data[\"start station id\"])|set(data[\"end station id\"])"
      ],
      "execution_count": null,
      "outputs": []
    },
    {
      "cell_type": "code",
      "metadata": {
        "colab": {
          "base_uri": "https://localhost:8080/"
        },
        "id": "WtDB1xWmSgqj",
        "outputId": "fe604e83-a3b7-4f05-f54b-a360ef23e130"
      },
      "source": [
        "len(stations)"
      ],
      "execution_count": null,
      "outputs": [
        {
          "output_type": "execute_result",
          "data": {
            "text/plain": [
              "899"
            ]
          },
          "metadata": {},
          "execution_count": 6
        }
      ]
    },
    {
      "cell_type": "code",
      "metadata": {
        "colab": {
          "base_uri": "https://localhost:8080/"
        },
        "id": "Hvyv0pZ0a2Xa",
        "outputId": "f1707529-4693-4cdf-b830-efe939ebb4ad"
      },
      "source": [
        "len(data)"
      ],
      "execution_count": null,
      "outputs": [
        {
          "output_type": "execute_result",
          "data": {
            "text/plain": [
              "1068457"
            ]
          },
          "metadata": {},
          "execution_count": 7
        }
      ]
    },
    {
      "cell_type": "markdown",
      "metadata": {
        "id": "q6NWnAlhTBfU"
      },
      "source": [
        "### Distribution of the ride duration\n",
        "\n",
        "* Convert seconds into minutes\n",
        "* Binning"
      ]
    },
    {
      "cell_type": "code",
      "metadata": {
        "colab": {
          "base_uri": "https://localhost:8080/"
        },
        "id": "kPdu5al1TwDM",
        "outputId": "f168f314-2b4e-494b-a707-22f137f6a3f9"
      },
      "source": [
        "# mean duration for all the rides\n",
        "data['tripduration'].mean()"
      ],
      "execution_count": null,
      "outputs": [
        {
          "output_type": "execute_result",
          "data": {
            "text/plain": [
              "1160.832886115211"
            ]
          },
          "metadata": {},
          "execution_count": 8
        }
      ]
    },
    {
      "cell_type": "code",
      "metadata": {
        "id": "1_IBPN6-UW2z"
      },
      "source": [
        "# add a new attribute: trip duration in minutes\n",
        "data[\"tripinminutes\"] = data[\"tripduration\"]//60"
      ],
      "execution_count": null,
      "outputs": []
    },
    {
      "cell_type": "code",
      "metadata": {
        "colab": {
          "base_uri": "https://localhost:8080/",
          "height": 213
        },
        "id": "QYKNidGxUh6f",
        "outputId": "82573ad9-0227-4401-ae0b-6ea15b56ff53"
      },
      "source": [
        "data.head(3)"
      ],
      "execution_count": null,
      "outputs": [
        {
          "output_type": "execute_result",
          "data": {
            "text/html": [
              "<div>\n",
              "<style scoped>\n",
              "    .dataframe tbody tr th:only-of-type {\n",
              "        vertical-align: middle;\n",
              "    }\n",
              "\n",
              "    .dataframe tbody tr th {\n",
              "        vertical-align: top;\n",
              "    }\n",
              "\n",
              "    .dataframe thead th {\n",
              "        text-align: right;\n",
              "    }\n",
              "</style>\n",
              "<table border=\"1\" class=\"dataframe\">\n",
              "  <thead>\n",
              "    <tr style=\"text-align: right;\">\n",
              "      <th></th>\n",
              "      <th>tripduration</th>\n",
              "      <th>starttime</th>\n",
              "      <th>stoptime</th>\n",
              "      <th>start station id</th>\n",
              "      <th>start station name</th>\n",
              "      <th>start station latitude</th>\n",
              "      <th>start station longitude</th>\n",
              "      <th>end station id</th>\n",
              "      <th>end station name</th>\n",
              "      <th>end station latitude</th>\n",
              "      <th>end station longitude</th>\n",
              "      <th>bikeid</th>\n",
              "      <th>usertype</th>\n",
              "      <th>birth year</th>\n",
              "      <th>gender</th>\n",
              "      <th>tripinminutes</th>\n",
              "    </tr>\n",
              "  </thead>\n",
              "  <tbody>\n",
              "    <tr>\n",
              "      <th>0</th>\n",
              "      <td>1589</td>\n",
              "      <td>2020-03-01 00:00:03.6400</td>\n",
              "      <td>2020-03-01 00:26:32.9860</td>\n",
              "      <td>224</td>\n",
              "      <td>Spruce St &amp; Nassau St</td>\n",
              "      <td>40.711464</td>\n",
              "      <td>-74.005524</td>\n",
              "      <td>3574</td>\n",
              "      <td>Prospect Pl &amp; Underhill Ave</td>\n",
              "      <td>40.676969</td>\n",
              "      <td>-73.965790</td>\n",
              "      <td>16214</td>\n",
              "      <td>Subscriber</td>\n",
              "      <td>1980</td>\n",
              "      <td>1</td>\n",
              "      <td>26</td>\n",
              "    </tr>\n",
              "    <tr>\n",
              "      <th>1</th>\n",
              "      <td>389</td>\n",
              "      <td>2020-03-01 00:00:16.7560</td>\n",
              "      <td>2020-03-01 00:06:46.0620</td>\n",
              "      <td>293</td>\n",
              "      <td>Lafayette St &amp; E 8 St</td>\n",
              "      <td>40.730207</td>\n",
              "      <td>-73.991026</td>\n",
              "      <td>223</td>\n",
              "      <td>W 13 St &amp; 7 Ave</td>\n",
              "      <td>40.737815</td>\n",
              "      <td>-73.999947</td>\n",
              "      <td>29994</td>\n",
              "      <td>Subscriber</td>\n",
              "      <td>1991</td>\n",
              "      <td>2</td>\n",
              "      <td>6</td>\n",
              "    </tr>\n",
              "    <tr>\n",
              "      <th>2</th>\n",
              "      <td>614</td>\n",
              "      <td>2020-03-01 00:00:20.0580</td>\n",
              "      <td>2020-03-01 00:10:34.2200</td>\n",
              "      <td>379</td>\n",
              "      <td>W 31 St &amp; 7 Ave</td>\n",
              "      <td>40.749156</td>\n",
              "      <td>-73.991600</td>\n",
              "      <td>515</td>\n",
              "      <td>W 43 St &amp; 10 Ave</td>\n",
              "      <td>40.760094</td>\n",
              "      <td>-73.994618</td>\n",
              "      <td>39853</td>\n",
              "      <td>Subscriber</td>\n",
              "      <td>1991</td>\n",
              "      <td>1</td>\n",
              "      <td>10</td>\n",
              "    </tr>\n",
              "  </tbody>\n",
              "</table>\n",
              "</div>"
            ],
            "text/plain": [
              "   tripduration                 starttime  ... gender  tripinminutes\n",
              "0          1589  2020-03-01 00:00:03.6400  ...      1             26\n",
              "1           389  2020-03-01 00:00:16.7560  ...      2              6\n",
              "2           614  2020-03-01 00:00:20.0580  ...      1             10\n",
              "\n",
              "[3 rows x 16 columns]"
            ]
          },
          "metadata": {},
          "execution_count": 10
        }
      ]
    },
    {
      "cell_type": "code",
      "metadata": {
        "colab": {
          "base_uri": "https://localhost:8080/"
        },
        "id": "rOmTd3hGWlwl",
        "outputId": "4c315c4e-ed0a-4822-b265-0d0c0ff1610d"
      },
      "source": [
        "(data.tripduration // 60).value_counts().sort_values()"
      ],
      "execution_count": null,
      "outputs": [
        {
          "output_type": "execute_result",
          "data": {
            "text/plain": [
              "6278        1\n",
              "703         1\n",
              "701         1\n",
              "6847        1\n",
              "1721        1\n",
              "        ...  \n",
              "3       55993\n",
              "7       59651\n",
              "6       63752\n",
              "4       64014\n",
              "5       65773\n",
              "Name: tripduration, Length: 1369, dtype: int64"
            ]
          },
          "metadata": {},
          "execution_count": 11
        }
      ]
    },
    {
      "cell_type": "code",
      "metadata": {
        "colab": {
          "base_uri": "https://localhost:8080/",
          "height": 369
        },
        "id": "fkIXHtmXWxCK",
        "outputId": "68bcbf3e-872d-4094-e25f-5adbbd4629cc"
      },
      "source": [
        "data['tripminutes'] = data['tripduration'] // 60\n",
        "sns.displot(data=data,x=\"tripinminutes\", bins=range(1,61), aspect=10/5);"
      ],
      "execution_count": null,
      "outputs": [
        {
          "output_type": "display_data",
          "data": {
            "image/png": "[encoded data removed]",
            "text/plain": [
              "<Figure size 720x360 with 1 Axes>"
            ]
          },
          "metadata": {}
        }
      ]
    },
    {
      "cell_type": "markdown",
      "metadata": {
        "id": "jMwCkw2dYIDM"
      },
      "source": [
        "### Distribution of the ride start hour (to confirm that CitiBike is used for work commute)\n",
        "\n",
        "* Get the start hour\n"
      ]
    },
    {
      "cell_type": "code",
      "metadata": {
        "colab": {
          "base_uri": "https://localhost:8080/"
        },
        "id": "cJTRO8WmZRWI",
        "outputId": "a1ae645a-66db-4c97-b9f5-b2f31b68cf3f"
      },
      "source": [
        "data.dtypes"
      ],
      "execution_count": null,
      "outputs": [
        {
          "output_type": "execute_result",
          "data": {
            "text/plain": [
              "tripduration                 int64\n",
              "starttime                   object\n",
              "stoptime                    object\n",
              "start station id             int64\n",
              "start station name          object\n",
              "start station latitude     float64\n",
              "start station longitude    float64\n",
              "end station id               int64\n",
              "end station name            object\n",
              "end station latitude       float64\n",
              "end station longitude      float64\n",
              "bikeid                       int64\n",
              "usertype                    object\n",
              "birth year                   int64\n",
              "gender                       int64\n",
              "tripinminutes                int64\n",
              "tripminutes                  int64\n",
              "dtype: object"
            ]
          },
          "metadata": {},
          "execution_count": 13
        }
      ]
    },
    {
      "cell_type": "code",
      "metadata": {
        "id": "sxOx4fUgYWPg"
      },
      "source": [
        "data['starttime'] = pd.to_datetime(data['starttime'])\n",
        "data['stoptime'] = pd.to_datetime(data['stoptime'])"
      ],
      "execution_count": null,
      "outputs": []
    },
    {
      "cell_type": "code",
      "metadata": {
        "id": "Zgupuz8FZwTS"
      },
      "source": [
        "data['starthour'] = data['starttime'].dt.hour.astype('category')"
      ],
      "execution_count": null,
      "outputs": []
    },
    {
      "cell_type": "code",
      "metadata": {
        "id": "R-idRT_6aR4a"
      },
      "source": [
        "data['startday'] = data['starttime'].dt.day.astype('category')\n",
        "data['weekday'] = data['starttime'].dt.weekday.astype('category')"
      ],
      "execution_count": null,
      "outputs": []
    },
    {
      "cell_type": "code",
      "metadata": {
        "colab": {
          "base_uri": "https://localhost:8080/"
        },
        "id": "K7jruUb2Z8hr",
        "outputId": "e2622b6c-888c-4302-897c-b5cc5bc048b9"
      },
      "source": [
        "data.dtypes"
      ],
      "execution_count": null,
      "outputs": [
        {
          "output_type": "execute_result",
          "data": {
            "text/plain": [
              "tripduration                        int64\n",
              "starttime                  datetime64[ns]\n",
              "stoptime                   datetime64[ns]\n",
              "start station id                    int64\n",
              "start station name                 object\n",
              "start station latitude            float64\n",
              "start station longitude           float64\n",
              "end station id                      int64\n",
              "end station name                   object\n",
              "end station latitude              float64\n",
              "end station longitude             float64\n",
              "bikeid                              int64\n",
              "usertype                           object\n",
              "birth year                          int64\n",
              "gender                              int64\n",
              "tripinminutes                       int64\n",
              "tripminutes                         int64\n",
              "starthour                        category\n",
              "startday                         category\n",
              "weekday                          category\n",
              "dtype: object"
            ]
          },
          "metadata": {},
          "execution_count": 17
        }
      ]
    },
    {
      "cell_type": "code",
      "metadata": {
        "colab": {
          "base_uri": "https://localhost:8080/"
        },
        "id": "sTSK2VauZ-na",
        "outputId": "b6c64967-daf8-40bc-8488-843e577603e6"
      },
      "source": [
        "plt.figure(figsize=(12,5))\n",
        "sns.countplot(data=data, x=\"starthour\")"
      ],
      "execution_count": null,
      "outputs": [
        {
          "output_type": "execute_result",
          "data": {
            "text/plain": [
              "<matplotlib.axes._subplots.AxesSubplot at 0x7f7d3c5f7490>"
            ]
          },
          "metadata": {},
          "execution_count": 18
        },
        {
          "output_type": "display_data",
          "data": {
            "image/png": "[encoded data removed]",
            "text/plain": [
              "<Figure size 864x360 with 1 Axes>"
            ]
          },
          "metadata": {}
        }
      ]
    },
    {
      "cell_type": "code",
      "metadata": {
        "colab": {
          "base_uri": "https://localhost:8080/"
        },
        "id": "xOHR9XXzaZTf",
        "outputId": "7a39d32b-8a40-4436-febf-b5ffe4e40e36"
      },
      "source": [
        "plt.figure(figsize=(12,5))\n",
        "sns.countplot(data=data, x=\"startday\")"
      ],
      "execution_count": null,
      "outputs": [
        {
          "output_type": "execute_result",
          "data": {
            "text/plain": [
              "<matplotlib.axes._subplots.AxesSubplot at 0x7f7d3c5f7910>"
            ]
          },
          "metadata": {},
          "execution_count": 19
        },
        {
          "output_type": "display_data",
          "data": {
            "image/png": "[encoded data removed]",
            "text/plain": [
              "<Figure size 864x360 with 1 Axes>"
            ]
          },
          "metadata": {}
        }
      ]
    },
    {
      "cell_type": "markdown",
      "metadata": {
        "id": "TeneC98dazPP"
      },
      "source": [
        "### Todo\n",
        "\n",
        "we can check the customer by gender/userType/birth year"
      ]
    },
    {
      "cell_type": "markdown",
      "metadata": {
        "id": "xyl-Q8g8dJn0"
      },
      "source": [
        "### Gender distribution\n",
        "\n",
        "Use pivot tables to see the gender distribution"
      ]
    },
    {
      "cell_type": "code",
      "metadata": {
        "colab": {
          "base_uri": "https://localhost:8080/"
        },
        "id": "-YCuWVVAdNJB",
        "outputId": "c6a9a33f-cee8-4eeb-c1e3-386292de76a2"
      },
      "source": [
        "print(\"Unknown\\t\",len(data[data.gender == 0]))\n",
        "print(\"Female\\t\",len(data[data[\"gender\"] == 2]))\n",
        "print(\"Male\\t\",len(data[data[\"gender\"] == 1]))"
      ],
      "execution_count": null,
      "outputs": [
        {
          "output_type": "stream",
          "name": "stdout",
          "text": [
            "Unknown\t 81616\n",
            "Female\t 263862\n",
            "Male\t 722979\n"
          ]
        }
      ]
    },
    {
      "cell_type": "code",
      "metadata": {
        "colab": {
          "base_uri": "https://localhost:8080/"
        },
        "id": "RQKs5q36fPGr",
        "outputId": "9ad0f663-2e05-4495-fe57-be0792db8bde"
      },
      "source": [
        "data.groupby(\"gender\")[\"start station id\"].count()"
      ],
      "execution_count": null,
      "outputs": [
        {
          "output_type": "execute_result",
          "data": {
            "text/plain": [
              "gender\n",
              "0     81616\n",
              "1    722979\n",
              "2    263862\n",
              "Name: start station id, dtype: int64"
            ]
          },
          "metadata": {},
          "execution_count": 21
        }
      ]
    },
    {
      "cell_type": "code",
      "metadata": {
        "colab": {
          "base_uri": "https://localhost:8080/"
        },
        "id": "0fpLUH7Ff7F9",
        "outputId": "c4eb4087-fb50-42b2-d37a-5bc42d70f425"
      },
      "source": [
        "table = pd.pivot_table(data = data, index = 'gender', values = 'bikeid', aggfunc= 'count')\n",
        "table"
      ],
      "execution_count": null,
      "outputs": [
        {
          "output_type": "execute_result",
          "data": {
            "text/html": [
              "<div>\n",
              "<style scoped>\n",
              "    .dataframe tbody tr th:only-of-type {\n",
              "        vertical-align: middle;\n",
              "    }\n",
              "\n",
              "    .dataframe tbody tr th {\n",
              "        vertical-align: top;\n",
              "    }\n",
              "\n",
              "    .dataframe thead th {\n",
              "        text-align: right;\n",
              "    }\n",
              "</style>\n",
              "<table border=\"1\" class=\"dataframe\">\n",
              "  <thead>\n",
              "    <tr style=\"text-align: right;\">\n",
              "      <th></th>\n",
              "      <th>bikeid</th>\n",
              "    </tr>\n",
              "    <tr>\n",
              "      <th>gender</th>\n",
              "      <th></th>\n",
              "    </tr>\n",
              "  </thead>\n",
              "  <tbody>\n",
              "    <tr>\n",
              "      <th>0</th>\n",
              "      <td>81616</td>\n",
              "    </tr>\n",
              "    <tr>\n",
              "      <th>1</th>\n",
              "      <td>722979</td>\n",
              "    </tr>\n",
              "    <tr>\n",
              "      <th>2</th>\n",
              "      <td>263862</td>\n",
              "    </tr>\n",
              "  </tbody>\n",
              "</table>\n",
              "</div>"
            ],
            "text/plain": [
              "        bikeid\n",
              "gender        \n",
              "0        81616\n",
              "1       722979\n",
              "2       263862"
            ]
          },
          "metadata": {},
          "execution_count": 22
        }
      ]
    },
    {
      "cell_type": "code",
      "metadata": {
        "colab": {
          "base_uri": "https://localhost:8080/"
        },
        "id": "-vVoXelWgPT4",
        "outputId": "cf98d5ec-cc83-43e5-a047-e29321e0dbb6"
      },
      "source": [
        "table.plot(kind='bar')"
      ],
      "execution_count": null,
      "outputs": [
        {
          "output_type": "execute_result",
          "data": {
            "text/plain": [
              "<matplotlib.axes._subplots.AxesSubplot at 0x7f7d3bf34350>"
            ]
          },
          "metadata": {},
          "execution_count": 23
        },
        {
          "output_type": "display_data",
          "data": {
            "image/png": "[encoded data removed]",
            "text/plain": [
              "<Figure size 748.8x514.8 with 1 Axes>"
            ]
          },
          "metadata": {}
        }
      ]
    },
    {
      "cell_type": "code",
      "metadata": {
        "colab": {
          "base_uri": "https://localhost:8080/"
        },
        "id": "x16LexEQgojK",
        "outputId": "7734c813-4ed3-4353-a74a-a4556eb81246"
      },
      "source": [
        "(data.groupby(\"gender\")[\"start station id\"].count()).plot.bar()"
      ],
      "execution_count": null,
      "outputs": [
        {
          "output_type": "execute_result",
          "data": {
            "text/plain": [
              "<matplotlib.axes._subplots.AxesSubplot at 0x7f7d3beb2550>"
            ]
          },
          "metadata": {},
          "execution_count": 24
        },
        {
          "output_type": "display_data",
          "data": {
            "image/png": "[encoded data removed]",
            "text/plain": [
              "<Figure size 748.8x514.8 with 1 Axes>"
            ]
          },
          "metadata": {}
        }
      ]
    },
    {
      "cell_type": "markdown",
      "metadata": {
        "id": "ky0WUAvlhQcU"
      },
      "source": [
        "### User type distribution"
      ]
    },
    {
      "cell_type": "code",
      "metadata": {
        "colab": {
          "base_uri": "https://localhost:8080/"
        },
        "id": "zHX10_5yhSGt",
        "outputId": "9db434fd-e4c8-42e2-e349-2cd50acbd9f9"
      },
      "source": [
        "data.groupby(\"usertype\")[\"start station id\"].count()"
      ],
      "execution_count": null,
      "outputs": [
        {
          "output_type": "execute_result",
          "data": {
            "text/plain": [
              "usertype\n",
              "Customer      154389\n",
              "Subscriber    914068\n",
              "Name: start station id, dtype: int64"
            ]
          },
          "metadata": {},
          "execution_count": 25
        }
      ]
    },
    {
      "cell_type": "code",
      "metadata": {
        "colab": {
          "base_uri": "https://localhost:8080/"
        },
        "id": "Ml_1xNEFhdqb",
        "outputId": "fd3afe5a-bdd5-4ea5-bb23-33aa1bce01e9"
      },
      "source": [
        "(data.groupby(\"usertype\")[\"start station id\"].count()).plot.bar()"
      ],
      "execution_count": null,
      "outputs": [
        {
          "output_type": "execute_result",
          "data": {
            "text/plain": [
              "<matplotlib.axes._subplots.AxesSubplot at 0x7f7d3be2f150>"
            ]
          },
          "metadata": {},
          "execution_count": 26
        },
        {
          "output_type": "display_data",
          "data": {
            "image/png": "[encoded data removed]",
            "text/plain": [
              "<Figure size 748.8x514.8 with 1 Axes>"
            ]
          },
          "metadata": {}
        }
      ]
    },
    {
      "cell_type": "markdown",
      "metadata": {
        "id": "Uhgk9Cw3huwD"
      },
      "source": [
        "### Birth Year distribution"
      ]
    },
    {
      "cell_type": "code",
      "metadata": {
        "colab": {
          "base_uri": "https://localhost:8080/"
        },
        "id": "z6CnyiFSh2PV",
        "outputId": "a7d7dced-c172-4cf0-b913-5f46913dbf3d"
      },
      "source": [
        "table = pd.pivot_table(data = data, index = 'birth year', values = 'bikeid', aggfunc= 'count')\n",
        "table"
      ],
      "execution_count": null,
      "outputs": [
        {
          "output_type": "execute_result",
          "data": {
            "text/html": [
              "<div>\n",
              "<style scoped>\n",
              "    .dataframe tbody tr th:only-of-type {\n",
              "        vertical-align: middle;\n",
              "    }\n",
              "\n",
              "    .dataframe tbody tr th {\n",
              "        vertical-align: top;\n",
              "    }\n",
              "\n",
              "    .dataframe thead th {\n",
              "        text-align: right;\n",
              "    }\n",
              "</style>\n",
              "<table border=\"1\" class=\"dataframe\">\n",
              "  <thead>\n",
              "    <tr style=\"text-align: right;\">\n",
              "      <th></th>\n",
              "      <th>bikeid</th>\n",
              "    </tr>\n",
              "    <tr>\n",
              "      <th>birth year</th>\n",
              "      <th></th>\n",
              "    </tr>\n",
              "  </thead>\n",
              "  <tbody>\n",
              "    <tr>\n",
              "      <th>1885</th>\n",
              "      <td>19</td>\n",
              "    </tr>\n",
              "    <tr>\n",
              "      <th>1886</th>\n",
              "      <td>13</td>\n",
              "    </tr>\n",
              "    <tr>\n",
              "      <th>1887</th>\n",
              "      <td>16</td>\n",
              "    </tr>\n",
              "    <tr>\n",
              "      <th>1888</th>\n",
              "      <td>73</td>\n",
              "    </tr>\n",
              "    <tr>\n",
              "      <th>1889</th>\n",
              "      <td>18</td>\n",
              "    </tr>\n",
              "    <tr>\n",
              "      <th>...</th>\n",
              "      <td>...</td>\n",
              "    </tr>\n",
              "    <tr>\n",
              "      <th>2000</th>\n",
              "      <td>7609</td>\n",
              "    </tr>\n",
              "    <tr>\n",
              "      <th>2001</th>\n",
              "      <td>3977</td>\n",
              "    </tr>\n",
              "    <tr>\n",
              "      <th>2002</th>\n",
              "      <td>2063</td>\n",
              "    </tr>\n",
              "    <tr>\n",
              "      <th>2003</th>\n",
              "      <td>1087</td>\n",
              "    </tr>\n",
              "    <tr>\n",
              "      <th>2004</th>\n",
              "      <td>29</td>\n",
              "    </tr>\n",
              "  </tbody>\n",
              "</table>\n",
              "<p>103 rows × 1 columns</p>\n",
              "</div>"
            ],
            "text/plain": [
              "            bikeid\n",
              "birth year        \n",
              "1885            19\n",
              "1886            13\n",
              "1887            16\n",
              "1888            73\n",
              "1889            18\n",
              "...            ...\n",
              "2000          7609\n",
              "2001          3977\n",
              "2002          2063\n",
              "2003          1087\n",
              "2004            29\n",
              "\n",
              "[103 rows x 1 columns]"
            ]
          },
          "metadata": {},
          "execution_count": 27
        }
      ]
    },
    {
      "cell_type": "code",
      "metadata": {
        "colab": {
          "base_uri": "https://localhost:8080/"
        },
        "id": "5WdgMgXIiOVA",
        "outputId": "a88ec9d0-c48f-4514-a1b3-ac8c0d138112"
      },
      "source": [
        "table.plot(kind='bar')"
      ],
      "execution_count": null,
      "outputs": [
        {
          "output_type": "execute_result",
          "data": {
            "text/plain": [
              "<matplotlib.axes._subplots.AxesSubplot at 0x7f7d3bd9a850>"
            ]
          },
          "metadata": {},
          "execution_count": 28
        },
        {
          "output_type": "display_data",
          "data": {
            "image/png": "[encoded data removed]",
            "text/plain": [
              "<Figure size 748.8x514.8 with 1 Axes>"
            ]
          },
          "metadata": {}
        }
      ]
    },
    {
      "cell_type": "code",
      "metadata": {
        "colab": {
          "base_uri": "https://localhost:8080/"
        },
        "id": "rK-dryTziWwI",
        "outputId": "42fe4520-d709-4624-de2d-3850728674d0"
      },
      "source": [
        "(data.groupby(\"birth year\")[\"start station id\"].count()).plot.pie()"
      ],
      "execution_count": null,
      "outputs": [
        {
          "output_type": "execute_result",
          "data": {
            "text/plain": [
              "<matplotlib.axes._subplots.AxesSubplot at 0x7f7d3bb364d0>"
            ]
          },
          "metadata": {},
          "execution_count": 29
        },
        {
          "output_type": "display_data",
          "data": {
            "image/png": "[encoded data removed]",
            "text/plain": [
              "<Figure size 748.8x514.8 with 1 Axes>"
            ]
          },
          "metadata": {}
        }
      ]
    },
    {
      "cell_type": "code",
      "metadata": {
        "colab": {
          "base_uri": "https://localhost:8080/"
        },
        "id": "wQ7Y-syPizYC",
        "outputId": "344e141e-7ef6-4fcc-d7e1-8c6074a5de28"
      },
      "source": [
        "data_1945plus = data[data[\"birth year\"] >= 1945]\n",
        "data_1945plus"
      ],
      "execution_count": null,
      "outputs": [
        {
          "output_type": "execute_result",
          "data": {
            "text/html": [
              "<div>\n",
              "<style scoped>\n",
              "    .dataframe tbody tr th:only-of-type {\n",
              "        vertical-align: middle;\n",
              "    }\n",
              "\n",
              "    .dataframe tbody tr th {\n",
              "        vertical-align: top;\n",
              "    }\n",
              "\n",
              "    .dataframe thead th {\n",
              "        text-align: right;\n",
              "    }\n",
              "</style>\n",
              "<table border=\"1\" class=\"dataframe\">\n",
              "  <thead>\n",
              "    <tr style=\"text-align: right;\">\n",
              "      <th></th>\n",
              "      <th>tripduration</th>\n",
              "      <th>starttime</th>\n",
              "      <th>stoptime</th>\n",
              "      <th>start station id</th>\n",
              "      <th>start station name</th>\n",
              "      <th>start station latitude</th>\n",
              "      <th>start station longitude</th>\n",
              "      <th>end station id</th>\n",
              "      <th>end station name</th>\n",
              "      <th>end station latitude</th>\n",
              "      <th>end station longitude</th>\n",
              "      <th>bikeid</th>\n",
              "      <th>usertype</th>\n",
              "      <th>birth year</th>\n",
              "      <th>gender</th>\n",
              "      <th>tripinminutes</th>\n",
              "      <th>tripminutes</th>\n",
              "      <th>starthour</th>\n",
              "      <th>startday</th>\n",
              "      <th>weekday</th>\n",
              "    </tr>\n",
              "  </thead>\n",
              "  <tbody>\n",
              "    <tr>\n",
              "      <th>0</th>\n",
              "      <td>1589</td>\n",
              "      <td>2020-03-01 00:00:03.640</td>\n",
              "      <td>2020-03-01 00:26:32.986</td>\n",
              "      <td>224</td>\n",
              "      <td>Spruce St &amp; Nassau St</td>\n",
              "      <td>40.711464</td>\n",
              "      <td>-74.005524</td>\n",
              "      <td>3574</td>\n",
              "      <td>Prospect Pl &amp; Underhill Ave</td>\n",
              "      <td>40.676969</td>\n",
              "      <td>-73.965790</td>\n",
              "      <td>16214</td>\n",
              "      <td>Subscriber</td>\n",
              "      <td>1980</td>\n",
              "      <td>1</td>\n",
              "      <td>26</td>\n",
              "      <td>26</td>\n",
              "      <td>0</td>\n",
              "      <td>1</td>\n",
              "      <td>6</td>\n",
              "    </tr>\n",
              "    <tr>\n",
              "      <th>1</th>\n",
              "      <td>389</td>\n",
              "      <td>2020-03-01 00:00:16.756</td>\n",
              "      <td>2020-03-01 00:06:46.062</td>\n",
              "      <td>293</td>\n",
              "      <td>Lafayette St &amp; E 8 St</td>\n",
              "      <td>40.730207</td>\n",
              "      <td>-73.991026</td>\n",
              "      <td>223</td>\n",
              "      <td>W 13 St &amp; 7 Ave</td>\n",
              "      <td>40.737815</td>\n",
              "      <td>-73.999947</td>\n",
              "      <td>29994</td>\n",
              "      <td>Subscriber</td>\n",
              "      <td>1991</td>\n",
              "      <td>2</td>\n",
              "      <td>6</td>\n",
              "      <td>6</td>\n",
              "      <td>0</td>\n",
              "      <td>1</td>\n",
              "      <td>6</td>\n",
              "    </tr>\n",
              "    <tr>\n",
              "      <th>2</th>\n",
              "      <td>614</td>\n",
              "      <td>2020-03-01 00:00:20.058</td>\n",
              "      <td>2020-03-01 00:10:34.220</td>\n",
              "      <td>379</td>\n",
              "      <td>W 31 St &amp; 7 Ave</td>\n",
              "      <td>40.749156</td>\n",
              "      <td>-73.991600</td>\n",
              "      <td>515</td>\n",
              "      <td>W 43 St &amp; 10 Ave</td>\n",
              "      <td>40.760094</td>\n",
              "      <td>-73.994618</td>\n",
              "      <td>39853</td>\n",
              "      <td>Subscriber</td>\n",
              "      <td>1991</td>\n",
              "      <td>1</td>\n",
              "      <td>10</td>\n",
              "      <td>10</td>\n",
              "      <td>0</td>\n",
              "      <td>1</td>\n",
              "      <td>6</td>\n",
              "    </tr>\n",
              "    <tr>\n",
              "      <th>3</th>\n",
              "      <td>597</td>\n",
              "      <td>2020-03-01 00:00:24.351</td>\n",
              "      <td>2020-03-01 00:10:22.339</td>\n",
              "      <td>3739</td>\n",
              "      <td>Perry St &amp; Greenwich Ave</td>\n",
              "      <td>40.735918</td>\n",
              "      <td>-74.000939</td>\n",
              "      <td>325</td>\n",
              "      <td>E 19 St &amp; 3 Ave</td>\n",
              "      <td>40.736245</td>\n",
              "      <td>-73.984738</td>\n",
              "      <td>42608</td>\n",
              "      <td>Subscriber</td>\n",
              "      <td>1989</td>\n",
              "      <td>1</td>\n",
              "      <td>9</td>\n",
              "      <td>9</td>\n",
              "      <td>0</td>\n",
              "      <td>1</td>\n",
              "      <td>6</td>\n",
              "    </tr>\n",
              "    <tr>\n",
              "      <th>4</th>\n",
              "      <td>1920</td>\n",
              "      <td>2020-03-01 00:00:26.112</td>\n",
              "      <td>2020-03-01 00:32:26.268</td>\n",
              "      <td>236</td>\n",
              "      <td>St Marks Pl &amp; 2 Ave</td>\n",
              "      <td>40.728419</td>\n",
              "      <td>-73.987140</td>\n",
              "      <td>3124</td>\n",
              "      <td>46 Ave &amp; 5 St</td>\n",
              "      <td>40.747310</td>\n",
              "      <td>-73.954510</td>\n",
              "      <td>36288</td>\n",
              "      <td>Subscriber</td>\n",
              "      <td>1993</td>\n",
              "      <td>1</td>\n",
              "      <td>32</td>\n",
              "      <td>32</td>\n",
              "      <td>0</td>\n",
              "      <td>1</td>\n",
              "      <td>6</td>\n",
              "    </tr>\n",
              "    <tr>\n",
              "      <th>...</th>\n",
              "      <td>...</td>\n",
              "      <td>...</td>\n",
              "      <td>...</td>\n",
              "      <td>...</td>\n",
              "      <td>...</td>\n",
              "      <td>...</td>\n",
              "      <td>...</td>\n",
              "      <td>...</td>\n",
              "      <td>...</td>\n",
              "      <td>...</td>\n",
              "      <td>...</td>\n",
              "      <td>...</td>\n",
              "      <td>...</td>\n",
              "      <td>...</td>\n",
              "      <td>...</td>\n",
              "      <td>...</td>\n",
              "      <td>...</td>\n",
              "      <td>...</td>\n",
              "      <td>...</td>\n",
              "      <td>...</td>\n",
              "    </tr>\n",
              "    <tr>\n",
              "      <th>1068452</th>\n",
              "      <td>137</td>\n",
              "      <td>2020-03-31 23:56:06.049</td>\n",
              "      <td>2020-03-31 23:58:23.388</td>\n",
              "      <td>422</td>\n",
              "      <td>W 59 St &amp; 10 Ave</td>\n",
              "      <td>40.770513</td>\n",
              "      <td>-73.988038</td>\n",
              "      <td>3356</td>\n",
              "      <td>Amsterdam Ave &amp; W 66 St</td>\n",
              "      <td>40.774667</td>\n",
              "      <td>-73.984706</td>\n",
              "      <td>18851</td>\n",
              "      <td>Subscriber</td>\n",
              "      <td>1989</td>\n",
              "      <td>2</td>\n",
              "      <td>2</td>\n",
              "      <td>2</td>\n",
              "      <td>23</td>\n",
              "      <td>31</td>\n",
              "      <td>1</td>\n",
              "    </tr>\n",
              "    <tr>\n",
              "      <th>1068453</th>\n",
              "      <td>1548</td>\n",
              "      <td>2020-03-31 23:57:27.685</td>\n",
              "      <td>2020-04-01 00:23:16.411</td>\n",
              "      <td>523</td>\n",
              "      <td>W 38 St &amp; 8 Ave</td>\n",
              "      <td>40.754666</td>\n",
              "      <td>-73.991382</td>\n",
              "      <td>442</td>\n",
              "      <td>W 27 St &amp; 7 Ave</td>\n",
              "      <td>40.746647</td>\n",
              "      <td>-73.993915</td>\n",
              "      <td>36539</td>\n",
              "      <td>Subscriber</td>\n",
              "      <td>1993</td>\n",
              "      <td>1</td>\n",
              "      <td>25</td>\n",
              "      <td>25</td>\n",
              "      <td>23</td>\n",
              "      <td>31</td>\n",
              "      <td>1</td>\n",
              "    </tr>\n",
              "    <tr>\n",
              "      <th>1068454</th>\n",
              "      <td>308</td>\n",
              "      <td>2020-03-31 23:58:00.269</td>\n",
              "      <td>2020-04-01 00:03:08.950</td>\n",
              "      <td>528</td>\n",
              "      <td>2 Ave &amp; E 31 St</td>\n",
              "      <td>40.742909</td>\n",
              "      <td>-73.977061</td>\n",
              "      <td>487</td>\n",
              "      <td>E 20 St &amp; FDR Drive</td>\n",
              "      <td>40.733143</td>\n",
              "      <td>-73.975739</td>\n",
              "      <td>43023</td>\n",
              "      <td>Subscriber</td>\n",
              "      <td>1982</td>\n",
              "      <td>1</td>\n",
              "      <td>5</td>\n",
              "      <td>5</td>\n",
              "      <td>23</td>\n",
              "      <td>31</td>\n",
              "      <td>1</td>\n",
              "    </tr>\n",
              "    <tr>\n",
              "      <th>1068455</th>\n",
              "      <td>872</td>\n",
              "      <td>2020-03-31 23:58:42.901</td>\n",
              "      <td>2020-04-01 00:13:15.586</td>\n",
              "      <td>3043</td>\n",
              "      <td>Lewis Ave &amp; Decatur St</td>\n",
              "      <td>40.681460</td>\n",
              "      <td>-73.934903</td>\n",
              "      <td>3755</td>\n",
              "      <td>DeKalb Ave &amp; Franklin Ave</td>\n",
              "      <td>40.690648</td>\n",
              "      <td>-73.957462</td>\n",
              "      <td>43073</td>\n",
              "      <td>Customer</td>\n",
              "      <td>1990</td>\n",
              "      <td>1</td>\n",
              "      <td>14</td>\n",
              "      <td>14</td>\n",
              "      <td>23</td>\n",
              "      <td>31</td>\n",
              "      <td>1</td>\n",
              "    </tr>\n",
              "    <tr>\n",
              "      <th>1068456</th>\n",
              "      <td>306</td>\n",
              "      <td>2020-03-31 23:59:17.258</td>\n",
              "      <td>2020-04-01 00:04:23.888</td>\n",
              "      <td>3721</td>\n",
              "      <td>31 St &amp; Newtown Ave</td>\n",
              "      <td>40.767549</td>\n",
              "      <td>-73.920933</td>\n",
              "      <td>3592</td>\n",
              "      <td>Crescent St &amp; Broadway</td>\n",
              "      <td>40.763359</td>\n",
              "      <td>-73.928647</td>\n",
              "      <td>39373</td>\n",
              "      <td>Subscriber</td>\n",
              "      <td>1974</td>\n",
              "      <td>1</td>\n",
              "      <td>5</td>\n",
              "      <td>5</td>\n",
              "      <td>23</td>\n",
              "      <td>31</td>\n",
              "      <td>1</td>\n",
              "    </tr>\n",
              "  </tbody>\n",
              "</table>\n",
              "<p>1063613 rows × 20 columns</p>\n",
              "</div>"
            ],
            "text/plain": [
              "         tripduration               starttime  ... startday  weekday\n",
              "0                1589 2020-03-01 00:00:03.640  ...        1        6\n",
              "1                 389 2020-03-01 00:00:16.756  ...        1        6\n",
              "2                 614 2020-03-01 00:00:20.058  ...        1        6\n",
              "3                 597 2020-03-01 00:00:24.351  ...        1        6\n",
              "4                1920 2020-03-01 00:00:26.112  ...        1        6\n",
              "...               ...                     ...  ...      ...      ...\n",
              "1068452           137 2020-03-31 23:56:06.049  ...       31        1\n",
              "1068453          1548 2020-03-31 23:57:27.685  ...       31        1\n",
              "1068454           308 2020-03-31 23:58:00.269  ...       31        1\n",
              "1068455           872 2020-03-31 23:58:42.901  ...       31        1\n",
              "1068456           306 2020-03-31 23:59:17.258  ...       31        1\n",
              "\n",
              "[1063613 rows x 20 columns]"
            ]
          },
          "metadata": {},
          "execution_count": 30
        }
      ]
    },
    {
      "cell_type": "code",
      "metadata": {
        "colab": {
          "base_uri": "https://localhost:8080/"
        },
        "id": "GNhrcf2ujJ7Z",
        "outputId": "6e4da942-3b13-4b56-854b-760ab177a29b"
      },
      "source": [
        "table_45plus = pd.pivot_table(data = data_1945plus, index = 'birth year', values = 'bikeid', aggfunc= 'count')\n",
        "table_45plus"
      ],
      "execution_count": null,
      "outputs": [
        {
          "output_type": "execute_result",
          "data": {
            "text/html": [
              "<div>\n",
              "<style scoped>\n",
              "    .dataframe tbody tr th:only-of-type {\n",
              "        vertical-align: middle;\n",
              "    }\n",
              "\n",
              "    .dataframe tbody tr th {\n",
              "        vertical-align: top;\n",
              "    }\n",
              "\n",
              "    .dataframe thead th {\n",
              "        text-align: right;\n",
              "    }\n",
              "</style>\n",
              "<table border=\"1\" class=\"dataframe\">\n",
              "  <thead>\n",
              "    <tr style=\"text-align: right;\">\n",
              "      <th></th>\n",
              "      <th>bikeid</th>\n",
              "    </tr>\n",
              "    <tr>\n",
              "      <th>birth year</th>\n",
              "      <th></th>\n",
              "    </tr>\n",
              "  </thead>\n",
              "  <tbody>\n",
              "    <tr>\n",
              "      <th>1945</th>\n",
              "      <td>562</td>\n",
              "    </tr>\n",
              "    <tr>\n",
              "      <th>1946</th>\n",
              "      <td>974</td>\n",
              "    </tr>\n",
              "    <tr>\n",
              "      <th>1947</th>\n",
              "      <td>1511</td>\n",
              "    </tr>\n",
              "    <tr>\n",
              "      <th>1948</th>\n",
              "      <td>1271</td>\n",
              "    </tr>\n",
              "    <tr>\n",
              "      <th>1949</th>\n",
              "      <td>1435</td>\n",
              "    </tr>\n",
              "    <tr>\n",
              "      <th>1950</th>\n",
              "      <td>2166</td>\n",
              "    </tr>\n",
              "    <tr>\n",
              "      <th>1951</th>\n",
              "      <td>2600</td>\n",
              "    </tr>\n",
              "    <tr>\n",
              "      <th>1952</th>\n",
              "      <td>2734</td>\n",
              "    </tr>\n",
              "    <tr>\n",
              "      <th>1953</th>\n",
              "      <td>4504</td>\n",
              "    </tr>\n",
              "    <tr>\n",
              "      <th>1954</th>\n",
              "      <td>4992</td>\n",
              "    </tr>\n",
              "    <tr>\n",
              "      <th>1955</th>\n",
              "      <td>5944</td>\n",
              "    </tr>\n",
              "    <tr>\n",
              "      <th>1956</th>\n",
              "      <td>6467</td>\n",
              "    </tr>\n",
              "    <tr>\n",
              "      <th>1957</th>\n",
              "      <td>7498</td>\n",
              "    </tr>\n",
              "    <tr>\n",
              "      <th>1958</th>\n",
              "      <td>8017</td>\n",
              "    </tr>\n",
              "    <tr>\n",
              "      <th>1959</th>\n",
              "      <td>10076</td>\n",
              "    </tr>\n",
              "    <tr>\n",
              "      <th>1960</th>\n",
              "      <td>12160</td>\n",
              "    </tr>\n",
              "    <tr>\n",
              "      <th>1961</th>\n",
              "      <td>11237</td>\n",
              "    </tr>\n",
              "    <tr>\n",
              "      <th>1962</th>\n",
              "      <td>13291</td>\n",
              "    </tr>\n",
              "    <tr>\n",
              "      <th>1963</th>\n",
              "      <td>13153</td>\n",
              "    </tr>\n",
              "    <tr>\n",
              "      <th>1964</th>\n",
              "      <td>14957</td>\n",
              "    </tr>\n",
              "    <tr>\n",
              "      <th>1965</th>\n",
              "      <td>15194</td>\n",
              "    </tr>\n",
              "    <tr>\n",
              "      <th>1966</th>\n",
              "      <td>14471</td>\n",
              "    </tr>\n",
              "    <tr>\n",
              "      <th>1967</th>\n",
              "      <td>16354</td>\n",
              "    </tr>\n",
              "    <tr>\n",
              "      <th>1968</th>\n",
              "      <td>15960</td>\n",
              "    </tr>\n",
              "    <tr>\n",
              "      <th>1969</th>\n",
              "      <td>89347</td>\n",
              "    </tr>\n",
              "    <tr>\n",
              "      <th>1970</th>\n",
              "      <td>19261</td>\n",
              "    </tr>\n",
              "    <tr>\n",
              "      <th>1971</th>\n",
              "      <td>17031</td>\n",
              "    </tr>\n",
              "    <tr>\n",
              "      <th>1972</th>\n",
              "      <td>16380</td>\n",
              "    </tr>\n",
              "    <tr>\n",
              "      <th>1973</th>\n",
              "      <td>16411</td>\n",
              "    </tr>\n",
              "    <tr>\n",
              "      <th>1974</th>\n",
              "      <td>17030</td>\n",
              "    </tr>\n",
              "    <tr>\n",
              "      <th>1975</th>\n",
              "      <td>19290</td>\n",
              "    </tr>\n",
              "    <tr>\n",
              "      <th>1976</th>\n",
              "      <td>17615</td>\n",
              "    </tr>\n",
              "    <tr>\n",
              "      <th>1977</th>\n",
              "      <td>18053</td>\n",
              "    </tr>\n",
              "    <tr>\n",
              "      <th>1978</th>\n",
              "      <td>18137</td>\n",
              "    </tr>\n",
              "    <tr>\n",
              "      <th>1979</th>\n",
              "      <td>21318</td>\n",
              "    </tr>\n",
              "    <tr>\n",
              "      <th>1980</th>\n",
              "      <td>24007</td>\n",
              "    </tr>\n",
              "    <tr>\n",
              "      <th>1981</th>\n",
              "      <td>24528</td>\n",
              "    </tr>\n",
              "    <tr>\n",
              "      <th>1982</th>\n",
              "      <td>25465</td>\n",
              "    </tr>\n",
              "    <tr>\n",
              "      <th>1983</th>\n",
              "      <td>27529</td>\n",
              "    </tr>\n",
              "    <tr>\n",
              "      <th>1984</th>\n",
              "      <td>29064</td>\n",
              "    </tr>\n",
              "    <tr>\n",
              "      <th>1985</th>\n",
              "      <td>32098</td>\n",
              "    </tr>\n",
              "    <tr>\n",
              "      <th>1986</th>\n",
              "      <td>31975</td>\n",
              "    </tr>\n",
              "    <tr>\n",
              "      <th>1987</th>\n",
              "      <td>34360</td>\n",
              "    </tr>\n",
              "    <tr>\n",
              "      <th>1988</th>\n",
              "      <td>39002</td>\n",
              "    </tr>\n",
              "    <tr>\n",
              "      <th>1989</th>\n",
              "      <td>42484</td>\n",
              "    </tr>\n",
              "    <tr>\n",
              "      <th>1990</th>\n",
              "      <td>42798</td>\n",
              "    </tr>\n",
              "    <tr>\n",
              "      <th>1991</th>\n",
              "      <td>41597</td>\n",
              "    </tr>\n",
              "    <tr>\n",
              "      <th>1992</th>\n",
              "      <td>39767</td>\n",
              "    </tr>\n",
              "    <tr>\n",
              "      <th>1993</th>\n",
              "      <td>37203</td>\n",
              "    </tr>\n",
              "    <tr>\n",
              "      <th>1994</th>\n",
              "      <td>34338</td>\n",
              "    </tr>\n",
              "    <tr>\n",
              "      <th>1995</th>\n",
              "      <td>30825</td>\n",
              "    </tr>\n",
              "    <tr>\n",
              "      <th>1996</th>\n",
              "      <td>22042</td>\n",
              "    </tr>\n",
              "    <tr>\n",
              "      <th>1997</th>\n",
              "      <td>13682</td>\n",
              "    </tr>\n",
              "    <tr>\n",
              "      <th>1998</th>\n",
              "      <td>9075</td>\n",
              "    </tr>\n",
              "    <tr>\n",
              "      <th>1999</th>\n",
              "      <td>9608</td>\n",
              "    </tr>\n",
              "    <tr>\n",
              "      <th>2000</th>\n",
              "      <td>7609</td>\n",
              "    </tr>\n",
              "    <tr>\n",
              "      <th>2001</th>\n",
              "      <td>3977</td>\n",
              "    </tr>\n",
              "    <tr>\n",
              "      <th>2002</th>\n",
              "      <td>2063</td>\n",
              "    </tr>\n",
              "    <tr>\n",
              "      <th>2003</th>\n",
              "      <td>1087</td>\n",
              "    </tr>\n",
              "    <tr>\n",
              "      <th>2004</th>\n",
              "      <td>29</td>\n",
              "    </tr>\n",
              "  </tbody>\n",
              "</table>\n",
              "</div>"
            ],
            "text/plain": [
              "            bikeid\n",
              "birth year        \n",
              "1945           562\n",
              "1946           974\n",
              "1947          1511\n",
              "1948          1271\n",
              "1949          1435\n",
              "1950          2166\n",
              "1951          2600\n",
              "1952          2734\n",
              "1953          4504\n",
              "1954          4992\n",
              "1955          5944\n",
              "1956          6467\n",
              "1957          7498\n",
              "1958          8017\n",
              "1959         10076\n",
              "1960         12160\n",
              "1961         11237\n",
              "1962         13291\n",
              "1963         13153\n",
              "1964         14957\n",
              "1965         15194\n",
              "1966         14471\n",
              "1967         16354\n",
              "1968         15960\n",
              "1969         89347\n",
              "1970         19261\n",
              "1971         17031\n",
              "1972         16380\n",
              "1973         16411\n",
              "1974         17030\n",
              "1975         19290\n",
              "1976         17615\n",
              "1977         18053\n",
              "1978         18137\n",
              "1979         21318\n",
              "1980         24007\n",
              "1981         24528\n",
              "1982         25465\n",
              "1983         27529\n",
              "1984         29064\n",
              "1985         32098\n",
              "1986         31975\n",
              "1987         34360\n",
              "1988         39002\n",
              "1989         42484\n",
              "1990         42798\n",
              "1991         41597\n",
              "1992         39767\n",
              "1993         37203\n",
              "1994         34338\n",
              "1995         30825\n",
              "1996         22042\n",
              "1997         13682\n",
              "1998          9075\n",
              "1999          9608\n",
              "2000          7609\n",
              "2001          3977\n",
              "2002          2063\n",
              "2003          1087\n",
              "2004            29"
            ]
          },
          "metadata": {},
          "execution_count": 31
        }
      ]
    },
    {
      "cell_type": "code",
      "metadata": {
        "colab": {
          "base_uri": "https://localhost:8080/"
        },
        "id": "lgBCPjOFjRg5",
        "outputId": "133b45d9-f383-43bd-9ea8-475f877573b6"
      },
      "source": [
        "table_45plus.plot(kind='bar')"
      ],
      "execution_count": null,
      "outputs": [
        {
          "output_type": "execute_result",
          "data": {
            "text/plain": [
              "<matplotlib.axes._subplots.AxesSubplot at 0x7f7d3c63fdd0>"
            ]
          },
          "metadata": {},
          "execution_count": 32
        },
        {
          "output_type": "display_data",
          "data": {
            "image/png": "[encoded data removed]",
            "text/plain": [
              "<Figure size 748.8x514.8 with 1 Axes>"
            ]
          },
          "metadata": {}
        }
      ]
    },
    {
      "cell_type": "markdown",
      "metadata": {
        "id": "sy9foGpyktD2"
      },
      "source": [
        "### Find the names of the 15 most frequently used start stations."
      ]
    },
    {
      "cell_type": "code",
      "metadata": {
        "colab": {
          "base_uri": "https://localhost:8080/"
        },
        "id": "NZNAxLz6lV48",
        "outputId": "6211380e-b52a-4b95-83d6-c46fb99ceee0"
      },
      "source": [
        "data['start station name'].value_counts()[:15]"
      ],
      "execution_count": null,
      "outputs": [
        {
          "output_type": "execute_result",
          "data": {
            "text/plain": [
              "Pershing Square North            6679\n",
              "W 21 St & 6 Ave                  6058\n",
              "West St & Chambers St            5808\n",
              "E 17 St & Broadway               5585\n",
              "Broadway & W 60 St               5361\n",
              "8 Ave & W 31 St                  5287\n",
              "Broadway & E 22 St               5201\n",
              "12 Ave & W 40 St                 5029\n",
              "W 41 St & 8 Ave                  4809\n",
              "Christopher St & Greenwich St    4786\n",
              "E 13 St & Avenue A               4767\n",
              "Broadway & E 14 St               4608\n",
              "6 Ave & W 33 St                  4569\n",
              "8 Ave & W 33 St                  4541\n",
              "Broadway & W 25 St               4429\n",
              "Name: start station name, dtype: int64"
            ]
          },
          "metadata": {},
          "execution_count": 33
        }
      ]
    },
    {
      "cell_type": "code",
      "metadata": {
        "colab": {
          "base_uri": "https://localhost:8080/"
        },
        "id": "JH_9Ozl5mCyL",
        "outputId": "ca4861c7-ffdf-4649-962a-43fa09b3e3b6"
      },
      "source": [
        "data['end station name'].value_counts()[:15]"
      ],
      "execution_count": null,
      "outputs": [
        {
          "output_type": "execute_result",
          "data": {
            "text/plain": [
              "Pershing Square North            6584\n",
              "E 17 St & Broadway               6179\n",
              "W 21 St & 6 Ave                  6108\n",
              "West St & Chambers St            5857\n",
              "Broadway & E 22 St               5751\n",
              "8 Ave & W 31 St                  5436\n",
              "Broadway & W 60 St               5231\n",
              "12 Ave & W 40 St                 5180\n",
              "Christopher St & Greenwich St    4849\n",
              "E 13 St & Avenue A               4827\n",
              "University Pl & E 14 St          4640\n",
              "Broadway & E 14 St               4615\n",
              "Broadway & W 25 St               4528\n",
              "W 41 St & 8 Ave                  4488\n",
              "8 Ave & W 33 St                  4463\n",
              "Name: end station name, dtype: int64"
            ]
          },
          "metadata": {},
          "execution_count": 34
        }
      ]
    },
    {
      "cell_type": "code",
      "metadata": {
        "colab": {
          "base_uri": "https://localhost:8080/"
        },
        "id": "sSgffkD-mzzr",
        "outputId": "05bb7371-fd9c-415f-ef9d-bd23956ef6be"
      },
      "source": [
        "data_PSN_start  = data[data['start station name'] == \"Pershing Square North\"]\n",
        "data_PSN_start"
      ],
      "execution_count": null,
      "outputs": [
        {
          "output_type": "execute_result",
          "data": {
            "text/html": [
              "<div>\n",
              "<style scoped>\n",
              "    .dataframe tbody tr th:only-of-type {\n",
              "        vertical-align: middle;\n",
              "    }\n",
              "\n",
              "    .dataframe tbody tr th {\n",
              "        vertical-align: top;\n",
              "    }\n",
              "\n",
              "    .dataframe thead th {\n",
              "        text-align: right;\n",
              "    }\n",
              "</style>\n",
              "<table border=\"1\" class=\"dataframe\">\n",
              "  <thead>\n",
              "    <tr style=\"text-align: right;\">\n",
              "      <th></th>\n",
              "      <th>tripduration</th>\n",
              "      <th>starttime</th>\n",
              "      <th>stoptime</th>\n",
              "      <th>start station id</th>\n",
              "      <th>start station name</th>\n",
              "      <th>start station latitude</th>\n",
              "      <th>start station longitude</th>\n",
              "      <th>end station id</th>\n",
              "      <th>end station name</th>\n",
              "      <th>end station latitude</th>\n",
              "      <th>end station longitude</th>\n",
              "      <th>bikeid</th>\n",
              "      <th>usertype</th>\n",
              "      <th>birth year</th>\n",
              "      <th>gender</th>\n",
              "      <th>tripinminutes</th>\n",
              "      <th>tripminutes</th>\n",
              "      <th>starthour</th>\n",
              "      <th>startday</th>\n",
              "      <th>weekday</th>\n",
              "    </tr>\n",
              "  </thead>\n",
              "  <tbody>\n",
              "    <tr>\n",
              "      <th>179</th>\n",
              "      <td>633</td>\n",
              "      <td>2020-03-01 00:24:37.224</td>\n",
              "      <td>2020-03-01 00:35:10.261</td>\n",
              "      <td>519</td>\n",
              "      <td>Pershing Square North</td>\n",
              "      <td>40.751873</td>\n",
              "      <td>-73.977706</td>\n",
              "      <td>450</td>\n",
              "      <td>W 49 St &amp; 8 Ave</td>\n",
              "      <td>40.762272</td>\n",
              "      <td>-73.987882</td>\n",
              "      <td>40965</td>\n",
              "      <td>Subscriber</td>\n",
              "      <td>1963</td>\n",
              "      <td>1</td>\n",
              "      <td>10</td>\n",
              "      <td>10</td>\n",
              "      <td>0</td>\n",
              "      <td>1</td>\n",
              "      <td>6</td>\n",
              "    </tr>\n",
              "    <tr>\n",
              "      <th>351</th>\n",
              "      <td>973</td>\n",
              "      <td>2020-03-01 00:53:08.192</td>\n",
              "      <td>2020-03-01 01:09:21.868</td>\n",
              "      <td>519</td>\n",
              "      <td>Pershing Square North</td>\n",
              "      <td>40.751873</td>\n",
              "      <td>-73.977706</td>\n",
              "      <td>72</td>\n",
              "      <td>W 52 St &amp; 11 Ave</td>\n",
              "      <td>40.767272</td>\n",
              "      <td>-73.993929</td>\n",
              "      <td>28541</td>\n",
              "      <td>Subscriber</td>\n",
              "      <td>1993</td>\n",
              "      <td>1</td>\n",
              "      <td>16</td>\n",
              "      <td>16</td>\n",
              "      <td>0</td>\n",
              "      <td>1</td>\n",
              "      <td>6</td>\n",
              "    </tr>\n",
              "    <tr>\n",
              "      <th>828</th>\n",
              "      <td>382</td>\n",
              "      <td>2020-03-01 03:10:34.990</td>\n",
              "      <td>2020-03-01 03:16:57.296</td>\n",
              "      <td>519</td>\n",
              "      <td>Pershing Square North</td>\n",
              "      <td>40.751873</td>\n",
              "      <td>-73.977706</td>\n",
              "      <td>477</td>\n",
              "      <td>W 41 St &amp; 8 Ave</td>\n",
              "      <td>40.756405</td>\n",
              "      <td>-73.990026</td>\n",
              "      <td>35096</td>\n",
              "      <td>Subscriber</td>\n",
              "      <td>1981</td>\n",
              "      <td>1</td>\n",
              "      <td>6</td>\n",
              "      <td>6</td>\n",
              "      <td>3</td>\n",
              "      <td>1</td>\n",
              "      <td>6</td>\n",
              "    </tr>\n",
              "    <tr>\n",
              "      <th>1174</th>\n",
              "      <td>402</td>\n",
              "      <td>2020-03-01 07:01:47.620</td>\n",
              "      <td>2020-03-01 07:08:30.527</td>\n",
              "      <td>519</td>\n",
              "      <td>Pershing Square North</td>\n",
              "      <td>40.751873</td>\n",
              "      <td>-73.977706</td>\n",
              "      <td>491</td>\n",
              "      <td>E 24 St &amp; Park Ave S</td>\n",
              "      <td>40.740964</td>\n",
              "      <td>-73.986022</td>\n",
              "      <td>39847</td>\n",
              "      <td>Subscriber</td>\n",
              "      <td>1957</td>\n",
              "      <td>1</td>\n",
              "      <td>6</td>\n",
              "      <td>6</td>\n",
              "      <td>7</td>\n",
              "      <td>1</td>\n",
              "      <td>6</td>\n",
              "    </tr>\n",
              "    <tr>\n",
              "      <th>1328</th>\n",
              "      <td>505</td>\n",
              "      <td>2020-03-01 07:33:18.273</td>\n",
              "      <td>2020-03-01 07:41:43.393</td>\n",
              "      <td>519</td>\n",
              "      <td>Pershing Square North</td>\n",
              "      <td>40.751873</td>\n",
              "      <td>-73.977706</td>\n",
              "      <td>3142</td>\n",
              "      <td>1 Ave &amp; E 62 St</td>\n",
              "      <td>40.761227</td>\n",
              "      <td>-73.960940</td>\n",
              "      <td>41378</td>\n",
              "      <td>Subscriber</td>\n",
              "      <td>1977</td>\n",
              "      <td>1</td>\n",
              "      <td>8</td>\n",
              "      <td>8</td>\n",
              "      <td>7</td>\n",
              "      <td>1</td>\n",
              "      <td>6</td>\n",
              "    </tr>\n",
              "    <tr>\n",
              "      <th>...</th>\n",
              "      <td>...</td>\n",
              "      <td>...</td>\n",
              "      <td>...</td>\n",
              "      <td>...</td>\n",
              "      <td>...</td>\n",
              "      <td>...</td>\n",
              "      <td>...</td>\n",
              "      <td>...</td>\n",
              "      <td>...</td>\n",
              "      <td>...</td>\n",
              "      <td>...</td>\n",
              "      <td>...</td>\n",
              "      <td>...</td>\n",
              "      <td>...</td>\n",
              "      <td>...</td>\n",
              "      <td>...</td>\n",
              "      <td>...</td>\n",
              "      <td>...</td>\n",
              "      <td>...</td>\n",
              "      <td>...</td>\n",
              "    </tr>\n",
              "    <tr>\n",
              "      <th>1066546</th>\n",
              "      <td>816</td>\n",
              "      <td>2020-03-31 19:24:06.113</td>\n",
              "      <td>2020-03-31 19:37:42.838</td>\n",
              "      <td>519</td>\n",
              "      <td>Pershing Square North</td>\n",
              "      <td>40.751873</td>\n",
              "      <td>-73.977706</td>\n",
              "      <td>280</td>\n",
              "      <td>E 10 St &amp; 5 Ave</td>\n",
              "      <td>40.733320</td>\n",
              "      <td>-73.995101</td>\n",
              "      <td>39952</td>\n",
              "      <td>Subscriber</td>\n",
              "      <td>1988</td>\n",
              "      <td>1</td>\n",
              "      <td>13</td>\n",
              "      <td>13</td>\n",
              "      <td>19</td>\n",
              "      <td>31</td>\n",
              "      <td>1</td>\n",
              "    </tr>\n",
              "    <tr>\n",
              "      <th>1066571</th>\n",
              "      <td>538</td>\n",
              "      <td>2020-03-31 19:25:26.452</td>\n",
              "      <td>2020-03-31 19:34:24.937</td>\n",
              "      <td>519</td>\n",
              "      <td>Pershing Square North</td>\n",
              "      <td>40.751873</td>\n",
              "      <td>-73.977706</td>\n",
              "      <td>2003</td>\n",
              "      <td>1 Ave &amp; E 18 St</td>\n",
              "      <td>40.733812</td>\n",
              "      <td>-73.980544</td>\n",
              "      <td>42973</td>\n",
              "      <td>Subscriber</td>\n",
              "      <td>1995</td>\n",
              "      <td>1</td>\n",
              "      <td>8</td>\n",
              "      <td>8</td>\n",
              "      <td>19</td>\n",
              "      <td>31</td>\n",
              "      <td>1</td>\n",
              "    </tr>\n",
              "    <tr>\n",
              "      <th>1066738</th>\n",
              "      <td>953</td>\n",
              "      <td>2020-03-31 19:33:20.920</td>\n",
              "      <td>2020-03-31 19:49:14.697</td>\n",
              "      <td>519</td>\n",
              "      <td>Pershing Square North</td>\n",
              "      <td>40.751873</td>\n",
              "      <td>-73.977706</td>\n",
              "      <td>3435</td>\n",
              "      <td>Grand St &amp; Elizabeth St</td>\n",
              "      <td>40.718822</td>\n",
              "      <td>-73.995960</td>\n",
              "      <td>42023</td>\n",
              "      <td>Subscriber</td>\n",
              "      <td>1986</td>\n",
              "      <td>2</td>\n",
              "      <td>15</td>\n",
              "      <td>15</td>\n",
              "      <td>19</td>\n",
              "      <td>31</td>\n",
              "      <td>1</td>\n",
              "    </tr>\n",
              "    <tr>\n",
              "      <th>1068211</th>\n",
              "      <td>782</td>\n",
              "      <td>2020-03-31 22:30:41.656</td>\n",
              "      <td>2020-03-31 22:43:43.854</td>\n",
              "      <td>519</td>\n",
              "      <td>Pershing Square North</td>\n",
              "      <td>40.751873</td>\n",
              "      <td>-73.977706</td>\n",
              "      <td>448</td>\n",
              "      <td>W 37 St &amp; 10 Ave</td>\n",
              "      <td>40.756604</td>\n",
              "      <td>-73.997901</td>\n",
              "      <td>20582</td>\n",
              "      <td>Customer</td>\n",
              "      <td>1988</td>\n",
              "      <td>1</td>\n",
              "      <td>13</td>\n",
              "      <td>13</td>\n",
              "      <td>22</td>\n",
              "      <td>31</td>\n",
              "      <td>1</td>\n",
              "    </tr>\n",
              "    <tr>\n",
              "      <th>1068381</th>\n",
              "      <td>402</td>\n",
              "      <td>2020-03-31 23:24:06.064</td>\n",
              "      <td>2020-03-31 23:30:48.891</td>\n",
              "      <td>519</td>\n",
              "      <td>Pershing Square North</td>\n",
              "      <td>40.751873</td>\n",
              "      <td>-73.977706</td>\n",
              "      <td>478</td>\n",
              "      <td>11 Ave &amp; W 41 St</td>\n",
              "      <td>40.760301</td>\n",
              "      <td>-73.998842</td>\n",
              "      <td>43036</td>\n",
              "      <td>Subscriber</td>\n",
              "      <td>1971</td>\n",
              "      <td>1</td>\n",
              "      <td>6</td>\n",
              "      <td>6</td>\n",
              "      <td>23</td>\n",
              "      <td>31</td>\n",
              "      <td>1</td>\n",
              "    </tr>\n",
              "  </tbody>\n",
              "</table>\n",
              "<p>6679 rows × 20 columns</p>\n",
              "</div>"
            ],
            "text/plain": [
              "         tripduration               starttime  ... startday  weekday\n",
              "179               633 2020-03-01 00:24:37.224  ...        1        6\n",
              "351               973 2020-03-01 00:53:08.192  ...        1        6\n",
              "828               382 2020-03-01 03:10:34.990  ...        1        6\n",
              "1174              402 2020-03-01 07:01:47.620  ...        1        6\n",
              "1328              505 2020-03-01 07:33:18.273  ...        1        6\n",
              "...               ...                     ...  ...      ...      ...\n",
              "1066546           816 2020-03-31 19:24:06.113  ...       31        1\n",
              "1066571           538 2020-03-31 19:25:26.452  ...       31        1\n",
              "1066738           953 2020-03-31 19:33:20.920  ...       31        1\n",
              "1068211           782 2020-03-31 22:30:41.656  ...       31        1\n",
              "1068381           402 2020-03-31 23:24:06.064  ...       31        1\n",
              "\n",
              "[6679 rows x 20 columns]"
            ]
          },
          "metadata": {},
          "execution_count": 35
        }
      ]
    },
    {
      "cell_type": "code",
      "metadata": {
        "colab": {
          "base_uri": "https://localhost:8080/"
        },
        "id": "0mLGI7QAnqiV",
        "outputId": "98e37473-6ee0-46df-d0db-9e89e283e061"
      },
      "source": [
        "data_WSCh_start  = data[data['start station name'] == \"West St & Chambers St\"]\n",
        "data_WSCh_start\n"
      ],
      "execution_count": null,
      "outputs": [
        {
          "output_type": "execute_result",
          "data": {
            "text/html": [
              "<div>\n",
              "<style scoped>\n",
              "    .dataframe tbody tr th:only-of-type {\n",
              "        vertical-align: middle;\n",
              "    }\n",
              "\n",
              "    .dataframe tbody tr th {\n",
              "        vertical-align: top;\n",
              "    }\n",
              "\n",
              "    .dataframe thead th {\n",
              "        text-align: right;\n",
              "    }\n",
              "</style>\n",
              "<table border=\"1\" class=\"dataframe\">\n",
              "  <thead>\n",
              "    <tr style=\"text-align: right;\">\n",
              "      <th></th>\n",
              "      <th>tripduration</th>\n",
              "      <th>starttime</th>\n",
              "      <th>stoptime</th>\n",
              "      <th>start station id</th>\n",
              "      <th>start station name</th>\n",
              "      <th>start station latitude</th>\n",
              "      <th>start station longitude</th>\n",
              "      <th>end station id</th>\n",
              "      <th>end station name</th>\n",
              "      <th>end station latitude</th>\n",
              "      <th>end station longitude</th>\n",
              "      <th>bikeid</th>\n",
              "      <th>usertype</th>\n",
              "      <th>birth year</th>\n",
              "      <th>gender</th>\n",
              "      <th>tripinminutes</th>\n",
              "      <th>tripminutes</th>\n",
              "      <th>starthour</th>\n",
              "      <th>startday</th>\n",
              "      <th>weekday</th>\n",
              "    </tr>\n",
              "  </thead>\n",
              "  <tbody>\n",
              "    <tr>\n",
              "      <th>825</th>\n",
              "      <td>1619</td>\n",
              "      <td>2020-03-01 03:09:07.911</td>\n",
              "      <td>2020-03-01 03:36:07.355</td>\n",
              "      <td>426</td>\n",
              "      <td>West St &amp; Chambers St</td>\n",
              "      <td>40.717548</td>\n",
              "      <td>-74.013221</td>\n",
              "      <td>536</td>\n",
              "      <td>1 Ave &amp; E 30 St</td>\n",
              "      <td>40.741444</td>\n",
              "      <td>-73.975361</td>\n",
              "      <td>37191</td>\n",
              "      <td>Subscriber</td>\n",
              "      <td>1999</td>\n",
              "      <td>1</td>\n",
              "      <td>26</td>\n",
              "      <td>26</td>\n",
              "      <td>3</td>\n",
              "      <td>1</td>\n",
              "      <td>6</td>\n",
              "    </tr>\n",
              "    <tr>\n",
              "      <th>1171</th>\n",
              "      <td>884</td>\n",
              "      <td>2020-03-01 07:01:11.588</td>\n",
              "      <td>2020-03-01 07:15:55.906</td>\n",
              "      <td>426</td>\n",
              "      <td>West St &amp; Chambers St</td>\n",
              "      <td>40.717548</td>\n",
              "      <td>-74.013221</td>\n",
              "      <td>489</td>\n",
              "      <td>10 Ave &amp; W 28 St</td>\n",
              "      <td>40.750664</td>\n",
              "      <td>-74.001768</td>\n",
              "      <td>27487</td>\n",
              "      <td>Subscriber</td>\n",
              "      <td>1986</td>\n",
              "      <td>1</td>\n",
              "      <td>14</td>\n",
              "      <td>14</td>\n",
              "      <td>7</td>\n",
              "      <td>1</td>\n",
              "      <td>6</td>\n",
              "    </tr>\n",
              "    <tr>\n",
              "      <th>1433</th>\n",
              "      <td>391</td>\n",
              "      <td>2020-03-01 07:45:48.371</td>\n",
              "      <td>2020-03-01 07:52:19.757</td>\n",
              "      <td>426</td>\n",
              "      <td>West St &amp; Chambers St</td>\n",
              "      <td>40.717548</td>\n",
              "      <td>-74.013221</td>\n",
              "      <td>3783</td>\n",
              "      <td>Cliff St &amp; Fulton St</td>\n",
              "      <td>40.708380</td>\n",
              "      <td>-74.004950</td>\n",
              "      <td>16100</td>\n",
              "      <td>Subscriber</td>\n",
              "      <td>1963</td>\n",
              "      <td>1</td>\n",
              "      <td>6</td>\n",
              "      <td>6</td>\n",
              "      <td>7</td>\n",
              "      <td>1</td>\n",
              "      <td>6</td>\n",
              "    </tr>\n",
              "    <tr>\n",
              "      <th>2109</th>\n",
              "      <td>510</td>\n",
              "      <td>2020-03-01 08:47:26.993</td>\n",
              "      <td>2020-03-01 08:55:57.543</td>\n",
              "      <td>426</td>\n",
              "      <td>West St &amp; Chambers St</td>\n",
              "      <td>40.717548</td>\n",
              "      <td>-74.013221</td>\n",
              "      <td>264</td>\n",
              "      <td>Maiden Ln &amp; Pearl St</td>\n",
              "      <td>40.707065</td>\n",
              "      <td>-74.007319</td>\n",
              "      <td>29114</td>\n",
              "      <td>Subscriber</td>\n",
              "      <td>1978</td>\n",
              "      <td>1</td>\n",
              "      <td>8</td>\n",
              "      <td>8</td>\n",
              "      <td>8</td>\n",
              "      <td>1</td>\n",
              "      <td>6</td>\n",
              "    </tr>\n",
              "    <tr>\n",
              "      <th>2964</th>\n",
              "      <td>793</td>\n",
              "      <td>2020-03-01 09:33:12.821</td>\n",
              "      <td>2020-03-01 09:46:26.018</td>\n",
              "      <td>426</td>\n",
              "      <td>West St &amp; Chambers St</td>\n",
              "      <td>40.717548</td>\n",
              "      <td>-74.013221</td>\n",
              "      <td>459</td>\n",
              "      <td>W 20 St &amp; 11 Ave</td>\n",
              "      <td>40.746745</td>\n",
              "      <td>-74.007756</td>\n",
              "      <td>41147</td>\n",
              "      <td>Subscriber</td>\n",
              "      <td>1985</td>\n",
              "      <td>1</td>\n",
              "      <td>13</td>\n",
              "      <td>13</td>\n",
              "      <td>9</td>\n",
              "      <td>1</td>\n",
              "      <td>6</td>\n",
              "    </tr>\n",
              "    <tr>\n",
              "      <th>...</th>\n",
              "      <td>...</td>\n",
              "      <td>...</td>\n",
              "      <td>...</td>\n",
              "      <td>...</td>\n",
              "      <td>...</td>\n",
              "      <td>...</td>\n",
              "      <td>...</td>\n",
              "      <td>...</td>\n",
              "      <td>...</td>\n",
              "      <td>...</td>\n",
              "      <td>...</td>\n",
              "      <td>...</td>\n",
              "      <td>...</td>\n",
              "      <td>...</td>\n",
              "      <td>...</td>\n",
              "      <td>...</td>\n",
              "      <td>...</td>\n",
              "      <td>...</td>\n",
              "      <td>...</td>\n",
              "      <td>...</td>\n",
              "    </tr>\n",
              "    <tr>\n",
              "      <th>1067245</th>\n",
              "      <td>1900</td>\n",
              "      <td>2020-03-31 20:10:14.365</td>\n",
              "      <td>2020-03-31 20:41:54.578</td>\n",
              "      <td>426</td>\n",
              "      <td>West St &amp; Chambers St</td>\n",
              "      <td>40.717548</td>\n",
              "      <td>-74.013221</td>\n",
              "      <td>3301</td>\n",
              "      <td>Columbus Ave &amp; W 95 St</td>\n",
              "      <td>40.791956</td>\n",
              "      <td>-73.968087</td>\n",
              "      <td>37630</td>\n",
              "      <td>Subscriber</td>\n",
              "      <td>1995</td>\n",
              "      <td>1</td>\n",
              "      <td>31</td>\n",
              "      <td>31</td>\n",
              "      <td>20</td>\n",
              "      <td>31</td>\n",
              "      <td>1</td>\n",
              "    </tr>\n",
              "    <tr>\n",
              "      <th>1067556</th>\n",
              "      <td>1066</td>\n",
              "      <td>2020-03-31 20:40:24.794</td>\n",
              "      <td>2020-03-31 20:58:11.478</td>\n",
              "      <td>426</td>\n",
              "      <td>West St &amp; Chambers St</td>\n",
              "      <td>40.717548</td>\n",
              "      <td>-74.013221</td>\n",
              "      <td>458</td>\n",
              "      <td>11 Ave &amp; W 27 St</td>\n",
              "      <td>40.751396</td>\n",
              "      <td>-74.005226</td>\n",
              "      <td>33890</td>\n",
              "      <td>Subscriber</td>\n",
              "      <td>1972</td>\n",
              "      <td>2</td>\n",
              "      <td>17</td>\n",
              "      <td>17</td>\n",
              "      <td>20</td>\n",
              "      <td>31</td>\n",
              "      <td>1</td>\n",
              "    </tr>\n",
              "    <tr>\n",
              "      <th>1067968</th>\n",
              "      <td>1975</td>\n",
              "      <td>2020-03-31 21:39:16.500</td>\n",
              "      <td>2020-03-31 22:12:11.637</td>\n",
              "      <td>426</td>\n",
              "      <td>West St &amp; Chambers St</td>\n",
              "      <td>40.717548</td>\n",
              "      <td>-74.013221</td>\n",
              "      <td>2003</td>\n",
              "      <td>1 Ave &amp; E 18 St</td>\n",
              "      <td>40.733812</td>\n",
              "      <td>-73.980544</td>\n",
              "      <td>29715</td>\n",
              "      <td>Customer</td>\n",
              "      <td>1993</td>\n",
              "      <td>1</td>\n",
              "      <td>32</td>\n",
              "      <td>32</td>\n",
              "      <td>21</td>\n",
              "      <td>31</td>\n",
              "      <td>1</td>\n",
              "    </tr>\n",
              "    <tr>\n",
              "      <th>1067974</th>\n",
              "      <td>1968</td>\n",
              "      <td>2020-03-31 21:39:52.856</td>\n",
              "      <td>2020-03-31 22:12:41.188</td>\n",
              "      <td>426</td>\n",
              "      <td>West St &amp; Chambers St</td>\n",
              "      <td>40.717548</td>\n",
              "      <td>-74.013221</td>\n",
              "      <td>480</td>\n",
              "      <td>W 53 St &amp; 10 Ave</td>\n",
              "      <td>40.766697</td>\n",
              "      <td>-73.990617</td>\n",
              "      <td>32059</td>\n",
              "      <td>Customer</td>\n",
              "      <td>1994</td>\n",
              "      <td>2</td>\n",
              "      <td>32</td>\n",
              "      <td>32</td>\n",
              "      <td>21</td>\n",
              "      <td>31</td>\n",
              "      <td>1</td>\n",
              "    </tr>\n",
              "    <tr>\n",
              "      <th>1068382</th>\n",
              "      <td>554</td>\n",
              "      <td>2020-03-31 23:25:04.570</td>\n",
              "      <td>2020-03-31 23:34:18.967</td>\n",
              "      <td>426</td>\n",
              "      <td>West St &amp; Chambers St</td>\n",
              "      <td>40.717548</td>\n",
              "      <td>-74.013221</td>\n",
              "      <td>2008</td>\n",
              "      <td>Little West St &amp; 1 Pl</td>\n",
              "      <td>40.705693</td>\n",
              "      <td>-74.016777</td>\n",
              "      <td>29188</td>\n",
              "      <td>Subscriber</td>\n",
              "      <td>1990</td>\n",
              "      <td>1</td>\n",
              "      <td>9</td>\n",
              "      <td>9</td>\n",
              "      <td>23</td>\n",
              "      <td>31</td>\n",
              "      <td>1</td>\n",
              "    </tr>\n",
              "  </tbody>\n",
              "</table>\n",
              "<p>5808 rows × 20 columns</p>\n",
              "</div>"
            ],
            "text/plain": [
              "         tripduration               starttime  ... startday  weekday\n",
              "825              1619 2020-03-01 03:09:07.911  ...        1        6\n",
              "1171              884 2020-03-01 07:01:11.588  ...        1        6\n",
              "1433              391 2020-03-01 07:45:48.371  ...        1        6\n",
              "2109              510 2020-03-01 08:47:26.993  ...        1        6\n",
              "2964              793 2020-03-01 09:33:12.821  ...        1        6\n",
              "...               ...                     ...  ...      ...      ...\n",
              "1067245          1900 2020-03-31 20:10:14.365  ...       31        1\n",
              "1067556          1066 2020-03-31 20:40:24.794  ...       31        1\n",
              "1067968          1975 2020-03-31 21:39:16.500  ...       31        1\n",
              "1067974          1968 2020-03-31 21:39:52.856  ...       31        1\n",
              "1068382           554 2020-03-31 23:25:04.570  ...       31        1\n",
              "\n",
              "[5808 rows x 20 columns]"
            ]
          },
          "metadata": {},
          "execution_count": 36
        }
      ]
    },
    {
      "cell_type": "code",
      "metadata": {
        "colab": {
          "base_uri": "https://localhost:8080/"
        },
        "id": "VKoOnc8WnHBq",
        "outputId": "d1e71a35-6544-4c69-e5e5-0428f92288df"
      },
      "source": [
        "plt.figure(figsize=(12,5))\n",
        "sns.countplot(data=data_PSN_start, x=\"starthour\")"
      ],
      "execution_count": null,
      "outputs": [
        {
          "output_type": "execute_result",
          "data": {
            "text/plain": [
              "<matplotlib.axes._subplots.AxesSubplot at 0x7f7d39fa7910>"
            ]
          },
          "metadata": {},
          "execution_count": 37
        },
        {
          "output_type": "display_data",
          "data": {
            "image/png": "[encoded data removed]",
            "text/plain": [
              "<Figure size 864x360 with 1 Axes>"
            ]
          },
          "metadata": {}
        }
      ]
    },
    {
      "cell_type": "code",
      "metadata": {
        "colab": {
          "base_uri": "https://localhost:8080/"
        },
        "id": "NxRsrjRonyiV",
        "outputId": "2847047f-6c17-4424-fa98-a251a3a17ccb"
      },
      "source": [
        "plt.figure(figsize=(12,5))\n",
        "sns.countplot(data=data_WSCh_start, x=\"starthour\")"
      ],
      "execution_count": null,
      "outputs": [
        {
          "output_type": "execute_result",
          "data": {
            "text/plain": [
              "<matplotlib.axes._subplots.AxesSubplot at 0x7f7d39f6b850>"
            ]
          },
          "metadata": {},
          "execution_count": 38
        },
        {
          "output_type": "display_data",
          "data": {
            "image/png": "[encoded data removed]",
            "text/plain": [
              "<Figure size 864x360 with 1 Axes>"
            ]
          },
          "metadata": {}
        }
      ]
    },
    {
      "cell_type": "markdown",
      "metadata": {
        "id": "fvd6ph_8pCfZ"
      },
      "source": [
        "### Try to create the NYC map by using the stations' lat,long coordinates"
      ]
    },
    {
      "cell_type": "code",
      "metadata": {
        "colab": {
          "base_uri": "https://localhost:8080/"
        },
        "id": "Xe8imQZQpKKi",
        "outputId": "d46e4f18-7012-4238-e27c-addfc7986acb"
      },
      "source": [
        "data.plot(kind='scatter', y='start station latitude', x ='start station longitude')"
      ],
      "execution_count": null,
      "outputs": [
        {
          "output_type": "execute_result",
          "data": {
            "text/plain": [
              "<matplotlib.axes._subplots.AxesSubplot at 0x7f7d39ef61d0>"
            ]
          },
          "metadata": {},
          "execution_count": 39
        },
        {
          "output_type": "display_data",
          "data": {
            "image/png": "[encoded data removed]",
            "text/plain": [
              "<Figure size 748.8x514.8 with 1 Axes>"
            ]
          },
          "metadata": {}
        }
      ]
    },
    {
      "cell_type": "markdown",
      "metadata": {
        "id": "uo7BI4HbrHCA"
      },
      "source": [
        "### TODO: to try at home\n",
        "\n",
        "* ZIP codes data from Census (we used it in class for the Unemployment data);\n",
        "* Google maps API (download the map for NYC);\n",
        "* Other APIs and Map services (specifically for IPython notebooks).\n",
        "\n",
        "Come up with more questions that you want to try to explore given the CitiBike data."
      ]
    },
    {
      "cell_type": "code",
      "metadata": {
        "id": "CzdosvsdQeFg"
      },
      "source": [
        "\n",
        "shapefiles_zipcodes = \"www2.census.gov/geo/tiger/GENZ2017/shp/cb_2017_us_zcta510_500k.zip\"\n",
        "\n",
        "shapefiles_counties = \"www2.census.gov/geo/tiger/GENZ2017/shp/cb_2017_us_county_500k.zip\"\n",
        "\n",
        "shapefiles_states   = \"www2.census.gov/geo/tiger/GENZ2017/shp/cb_2017_us_state_500k.zip\"\n",
        "\n",
        "\n"
      ],
      "execution_count": null,
      "outputs": []
    },
    {
      "cell_type": "code",
      "metadata": {
        "id": "eWjPririU59t",
        "colab": {
          "base_uri": "https://localhost:8080/"
        },
        "outputId": "89efec91-8174-4a01-a4fd-03e4bdad13af"
      },
      "source": [
        "!sudo pip3 install -U -qq geopandas fiona pyproj descartes pysal rtree scipy pykdtree pyepsg pillow OWSLib geoplot\n",
        "\n",
        "\n",
        "import geopandas as gpd"
      ],
      "execution_count": null,
      "outputs": [
        {
          "output_type": "stream",
          "name": "stdout",
          "text": [
            "\u001b[K     |████████████████████████████████| 1.0 MB 5.0 MB/s \n",
            "\u001b[K     |████████████████████████████████| 15.4 MB 28.4 MB/s \n",
            "\u001b[K     |████████████████████████████████| 6.3 MB 48.7 MB/s \n",
            "\u001b[K     |████████████████████████████████| 994 kB 43.6 MB/s \n",
            "\u001b[K     |████████████████████████████████| 38.1 MB 1.6 MB/s \n",
            "\u001b[K     |████████████████████████████████| 212 kB 57.8 MB/s \n",
            "\u001b[K     |████████████████████████████████| 3.1 MB 49.8 MB/s \n",
            "\u001b[K     |████████████████████████████████| 216 kB 57.4 MB/s \n",
            "\u001b[K     |████████████████████████████████| 2.4 MB 19.3 MB/s \n",
            "\u001b[K     |████████████████████████████████| 95 kB 3.7 MB/s \n",
            "\u001b[K     |████████████████████████████████| 60 kB 7.1 MB/s \n",
            "\u001b[K     |████████████████████████████████| 55 kB 3.5 MB/s \n",
            "\u001b[K     |████████████████████████████████| 164 kB 51.1 MB/s \n",
            "\u001b[K     |████████████████████████████████| 46 kB 3.8 MB/s \n",
            "\u001b[K     |████████████████████████████████| 41 kB 588 kB/s \n",
            "\u001b[K     |████████████████████████████████| 209 kB 67.8 MB/s \n",
            "\u001b[K     |████████████████████████████████| 5.7 MB 73.7 MB/s \n",
            "\u001b[K     |████████████████████████████████| 81 kB 7.9 MB/s \n",
            "\u001b[K     |████████████████████████████████| 138 kB 60.5 MB/s \n",
            "\u001b[K     |████████████████████████████████| 226 kB 57.3 MB/s \n",
            "\u001b[K     |████████████████████████████████| 269 kB 55.7 MB/s \n",
            "\u001b[K     |████████████████████████████████| 66.5 MB 106 kB/s \n",
            "\u001b[K     |████████████████████████████████| 117 kB 68.2 MB/s \n",
            "\u001b[K     |████████████████████████████████| 2.1 MB 31.1 MB/s \n",
            "\u001b[K     |████████████████████████████████| 183 kB 37.3 MB/s \n",
            "\u001b[K     |████████████████████████████████| 41.2 MB 1.3 MB/s \n",
            "\u001b[K     |████████████████████████████████| 19.3 MB 431 kB/s \n",
            "\u001b[K     |████████████████████████████████| 62 kB 819 kB/s \n",
            "\u001b[K     |████████████████████████████████| 10.8 MB 24.8 MB/s \n",
            "\u001b[?25h  Installing build dependencies ... \u001b[?25l\u001b[?25hdone\n",
            "  Getting requirements to build wheel ... \u001b[?25l\u001b[?25herror\n",
            "\u001b[33mWARNING: Discarding https://files.pythonhosted.org/packages/fc/59/aa52698e3838f4cd0e7eaa75bd86837e9e0b05041dbdaee3cda2fffced06/Cartopy-0.20.1.tar.gz#sha256=91f87b130e2574547a20cd634498df97d797abd12dcfd0235bc0cdbcec8b05e3 (from https://pypi.org/simple/cartopy/) (requires-python:>=3.7). Command errored out with exit status 1: /usr/bin/python3 /usr/local/lib/python3.7/dist-packages/pip/_vendor/pep517/in_process/_in_process.py get_requires_for_build_wheel /tmp/tmpy_a9v2lk Check the logs for full command output.\u001b[0m\n",
            "\u001b[K     |████████████████████████████████| 10.8 MB 17.1 MB/s \n",
            "\u001b[?25h  Installing build dependencies ... \u001b[?25l\u001b[?25hdone\n",
            "  Getting requirements to build wheel ... \u001b[?25l\u001b[?25herror\n",
            "\u001b[33mWARNING: Discarding https://files.pythonhosted.org/packages/0f/c0/58453b036e79046d211f083880d58dcce787e7e07647ac25dc46c6555099/Cartopy-0.20.0.tar.gz#sha256=eae58aff26806e63cf115b2bce9477cedc4aa9f578c5e477b2c25cfa404f2b7a (from https://pypi.org/simple/cartopy/) (requires-python:>=3.7). Command errored out with exit status 1: /usr/bin/python3 /usr/local/lib/python3.7/dist-packages/pip/_vendor/pep517/in_process/_in_process.py get_requires_for_build_wheel /tmp/tmpdawvi5b7 Check the logs for full command output.\u001b[0m\n",
            "\u001b[K     |████████████████████████████████| 12.1 MB 18.7 MB/s \n",
            "\u001b[?25h  Installing build dependencies ... \u001b[?25l\u001b[?25hdone\n",
            "  Getting requirements to build wheel ... \u001b[?25l\u001b[?25hdone\n",
            "    Preparing wheel metadata ... \u001b[?25l\u001b[?25hdone\n",
            "\u001b[K     |████████████████████████████████| 219 kB 70.8 MB/s \n",
            "\u001b[K     |████████████████████████████████| 280 kB 72.2 MB/s \n",
            "\u001b[K     |████████████████████████████████| 213 kB 73.1 MB/s \n",
            "\u001b[K     |████████████████████████████████| 280 kB 73.3 MB/s \n",
            "\u001b[K     |████████████████████████████████| 280 kB 46.3 MB/s \n",
            "\u001b[K     |████████████████████████████████| 280 kB 67.8 MB/s \n",
            "\u001b[K     |████████████████████████████████| 279 kB 48.7 MB/s \n",
            "\u001b[K     |████████████████████████████████| 279 kB 54.7 MB/s \n",
            "\u001b[K     |████████████████████████████████| 272 kB 47.6 MB/s \n",
            "\u001b[K     |████████████████████████████████| 272 kB 62.1 MB/s \n",
            "\u001b[K     |████████████████████████████████| 272 kB 61.9 MB/s \n",
            "\u001b[K     |████████████████████████████████| 270 kB 58.4 MB/s \n",
            "\u001b[K     |████████████████████████████████| 270 kB 53.0 MB/s \n",
            "\u001b[K     |████████████████████████████████| 270 kB 60.6 MB/s \n",
            "\u001b[K     |████████████████████████████████| 248 kB 59.8 MB/s \n",
            "\u001b[K     |████████████████████████████████| 247 kB 53.0 MB/s \n",
            "\u001b[K     |████████████████████████████████| 246 kB 36.0 MB/s \n",
            "\u001b[K     |████████████████████████████████| 247 kB 73.3 MB/s \n",
            "\u001b[K     |████████████████████████████████| 235 kB 77.0 MB/s \n",
            "\u001b[K     |████████████████████████████████| 235 kB 74.6 MB/s \n",
            "\u001b[K     |████████████████████████████████| 235 kB 73.9 MB/s \n",
            "\u001b[K     |████████████████████████████████| 234 kB 68.3 MB/s \n",
            "\u001b[K     |████████████████████████████████| 233 kB 59.8 MB/s \n",
            "\u001b[K     |████████████████████████████████| 233 kB 66.3 MB/s \n",
            "\u001b[K     |████████████████████████████████| 227 kB 61.1 MB/s \n",
            "\u001b[K     |████████████████████████████████| 227 kB 69.4 MB/s \n",
            "\u001b[K     |████████████████████████████████| 227 kB 59.8 MB/s \n",
            "\u001b[K     |████████████████████████████████| 226 kB 62.0 MB/s \n",
            "\u001b[K     |████████████████████████████████| 226 kB 60.4 MB/s \n",
            "\u001b[K     |████████████████████████████████| 224 kB 60.6 MB/s \n",
            "\u001b[K     |████████████████████████████████| 224 kB 61.0 MB/s \n",
            "\u001b[K     |████████████████████████████████| 223 kB 60.4 MB/s \n",
            "\u001b[K     |████████████████████████████████| 223 kB 59.7 MB/s \n",
            "\u001b[K     |████████████████████████████████| 221 kB 60.5 MB/s \n",
            "\u001b[K     |████████████████████████████████| 221 kB 57.5 MB/s \n",
            "\u001b[K     |████████████████████████████████| 231 kB 42.1 MB/s \n",
            "\u001b[K     |████████████████████████████████| 231 kB 59.8 MB/s \n",
            "\u001b[K     |████████████████████████████████| 231 kB 61.3 MB/s \n",
            "\u001b[K     |████████████████████████████████| 230 kB 61.7 MB/s \n",
            "\u001b[K     |████████████████████████████████| 230 kB 23.6 MB/s \n",
            "\u001b[K     |████████████████████████████████| 230 kB 58.1 MB/s \n",
            "\u001b[K     |████████████████████████████████| 230 kB 58.6 MB/s \n",
            "\u001b[K     |████████████████████████████████| 229 kB 65.7 MB/s \n",
            "\u001b[K     |████████████████████████████████| 229 kB 55.6 MB/s \n",
            "\u001b[K     |████████████████████████████████| 229 kB 60.3 MB/s \n",
            "\u001b[K     |████████████████████████████████| 229 kB 60.8 MB/s \n",
            "\u001b[K     |████████████████████████████████| 229 kB 61.1 MB/s \n",
            "\u001b[K     |████████████████████████████████| 213 kB 51.4 MB/s \n",
            "\u001b[K     |████████████████████████████████| 213 kB 61.3 MB/s \n",
            "\u001b[K     |████████████████████████████████| 213 kB 62.3 MB/s \n",
            "\u001b[K     |████████████████████████████████| 253 kB 71.2 MB/s \n",
            "\u001b[K     |████████████████████████████████| 252 kB 65.1 MB/s \n",
            "\u001b[K     |████████████████████████████████| 252 kB 59.5 MB/s \n",
            "\u001b[K     |████████████████████████████████| 242 kB 62.6 MB/s \n",
            "\u001b[K     |████████████████████████████████| 242 kB 70.6 MB/s \n",
            "\u001b[K     |████████████████████████████████| 242 kB 75.1 MB/s \n",
            "\u001b[K     |████████████████████████████████| 229 kB 67.8 MB/s \n",
            "\u001b[K     |████████████████████████████████| 229 kB 68.1 MB/s \n",
            "\u001b[K     |████████████████████████████████| 229 kB 59.6 MB/s \n",
            "\u001b[K     |████████████████████████████████| 227 kB 52.2 MB/s \n",
            "\u001b[K     |████████████████████████████████| 227 kB 64.8 MB/s \n",
            "\u001b[K     |████████████████████████████████| 227 kB 73.9 MB/s \n",
            "\u001b[K     |████████████████████████████████| 226 kB 56.5 MB/s \n",
            "\u001b[K     |████████████████████████████████| 226 kB 58.8 MB/s \n",
            "\u001b[K     |████████████████████████████████| 226 kB 48.5 MB/s \n",
            "\u001b[K     |████████████████████████████████| 205 kB 49.3 MB/s \n",
            "\u001b[K     |████████████████████████████████| 204 kB 44.0 MB/s \n",
            "\u001b[K     |████████████████████████████████| 205 kB 57.5 MB/s \n",
            "\u001b[K     |████████████████████████████████| 202 kB 58.7 MB/s \n",
            "\u001b[K     |████████████████████████████████| 378 kB 58.6 MB/s \n",
            "\u001b[K     |████████████████████████████████| 374 kB 65.6 MB/s \n",
            "\u001b[K     |████████████████████████████████| 369 kB 54.9 MB/s \n",
            "\u001b[K     |████████████████████████████████| 369 kB 59.6 MB/s \n",
            "\u001b[K     |████████████████████████████████| 596 kB 72.8 MB/s \n",
            "\u001b[K     |████████████████████████████████| 131 kB 58.4 MB/s \n",
            "\u001b[K     |████████████████████████████████| 56 kB 4.3 MB/s \n",
            "\u001b[K     |████████████████████████████████| 241 kB 52.8 MB/s \n",
            "\u001b[K     |████████████████████████████████| 8.2 MB 25.6 MB/s \n",
            "\u001b[K     |████████████████████████████████| 79 kB 7.1 MB/s \n",
            "\u001b[K     |████████████████████████████████| 130 kB 67.1 MB/s \n",
            "\u001b[?25h  Building wheel for pysal (setup.py) ... \u001b[?25l\u001b[?25hdone\n",
            "  Building wheel for esda (setup.py) ... \u001b[?25l\u001b[?25hdone\n",
            "  Building wheel for inequality (setup.py) ... \u001b[?25l\u001b[?25hdone\n",
            "  Building wheel for mgwr (setup.py) ... \u001b[?25l\u001b[?25hdone\n",
            "  Building wheel for pointpats (setup.py) ... \u001b[?25l\u001b[?25hdone\n",
            "  Building wheel for rvlib (setup.py) ... \u001b[?25l\u001b[?25hdone\n",
            "  Building wheel for spglm (setup.py) ... \u001b[?25l\u001b[?25hdone\n",
            "  Building wheel for spint (setup.py) ... \u001b[?25l\u001b[?25hdone\n",
            "  Building wheel for splot (setup.py) ... \u001b[?25l\u001b[?25hdone\n",
            "  Building wheel for spvcm (setup.py) ... \u001b[?25l\u001b[?25hdone\n",
            "  Building wheel for cartopy (PEP 517) ... \u001b[?25l\u001b[?25hdone\n",
            "  Building wheel for pyshp (setup.py) ... \u001b[?25l\u001b[?25hdone\n",
            "\u001b[31mERROR: pip's dependency resolver does not currently take into account all the packages that are installed. This behaviour is the source of the following dependency conflicts.\n",
            "nbclient 0.5.9 requires jupyter-client>=6.1.5, but you have jupyter-client 5.3.5 which is incompatible.\n",
            "google-colab 1.0.0 requires requests~=2.23.0, but you have requests 2.26.0 which is incompatible.\n",
            "datascience 0.10.6 requires coverage==3.7.1, but you have coverage 6.2 which is incompatible.\n",
            "datascience 0.10.6 requires folium==0.2.1, but you have folium 0.8.3 which is incompatible.\n",
            "coveralls 0.5 requires coverage<3.999,>=3.6, but you have coverage 6.2 which is incompatible.\n",
            "albumentations 0.1.12 requires imgaug<0.2.7,>=0.2.5, but you have imgaug 0.2.9 which is incompatible.\u001b[0m\n"
          ]
        },
        {
          "output_type": "stream",
          "name": "stderr",
          "text": [
            "/usr/local/lib/python3.7/dist-packages/geopandas/_compat.py:115: UserWarning: The Shapely GEOS version (3.9.1-CAPI-1.14.2) is incompatible with the GEOS version PyGEOS was compiled with (3.10.0-CAPI-1.16.0). Conversions between both will be slow.\n",
            "  shapely_geos_version, geos_capi_version_string\n"
          ]
        }
      ]
    },
    {
      "cell_type": "code",
      "metadata": {
        "id": "XVmfbLsMXA21"
      },
      "source": [],
      "execution_count": null,
      "outputs": []
    },
    {
      "cell_type": "code",
      "metadata": {
        "colab": {
          "base_uri": "https://localhost:8080/",
          "height": 537
        },
        "id": "6QurD2P6UvZu",
        "outputId": "c29d06df-89e3-457f-9ec7-9f4d2610a30d"
      },
      "source": [
        "df_zipcodes = gpd.read_file(\"www2.census.gov/geo/tiger/GENZ2017/shp/cb_2017_us_zcta510_500k.zip\")"
      ],
      "execution_count": null,
      "outputs": [
        {
          "output_type": "error",
          "ename": "DriverError",
          "evalue": "ignored",
          "traceback": [
            "\u001b[0;31m---------------------------------------------------------------------------\u001b[0m",
            "\u001b[0;31mCPLE_OpenFailedError\u001b[0m                      Traceback (most recent call last)",
            "\u001b[0;32mfiona/_shim.pyx\u001b[0m in \u001b[0;36mfiona._shim.gdal_open_vector\u001b[0;34m()\u001b[0m\n",
            "\u001b[0;32mfiona/_err.pyx\u001b[0m in \u001b[0;36mfiona._err.exc_wrap_pointer\u001b[0;34m()\u001b[0m\n",
            "\u001b[0;31mCPLE_OpenFailedError\u001b[0m: '/vsizip/www2.census.gov/geo/tiger/GENZ2017/shp/cb_2017_us_zcta510_500k.zip' does not exist in the file system, and is not recognized as a supported dataset name.",
            "\nDuring handling of the above exception, another exception occurred:\n",
            "\u001b[0;31mDriverError\u001b[0m                               Traceback (most recent call last)",
            "\u001b[0;32m<ipython-input-42-24391ce07adc>\u001b[0m in \u001b[0;36m<module>\u001b[0;34m()\u001b[0m\n\u001b[0;32m----> 1\u001b[0;31m \u001b[0mdf_zipcodes\u001b[0m \u001b[0;34m=\u001b[0m \u001b[0mgpd\u001b[0m\u001b[0;34m.\u001b[0m\u001b[0mread_file\u001b[0m\u001b[0;34m(\u001b[0m\u001b[0;34m\"www2.census.gov/geo/tiger/GENZ2017/shp/cb_2017_us_zcta510_500k.zip\"\u001b[0m\u001b[0;34m)\u001b[0m\u001b[0;34m\u001b[0m\u001b[0;34m\u001b[0m\u001b[0m\n\u001b[0m",
            "\u001b[0;32m/usr/local/lib/python3.7/dist-packages/geopandas/io/file.py\u001b[0m in \u001b[0;36m_read_file\u001b[0;34m(filename, bbox, mask, rows, **kwargs)\u001b[0m\n\u001b[1;32m    199\u001b[0m \u001b[0;34m\u001b[0m\u001b[0m\n\u001b[1;32m    200\u001b[0m     \u001b[0;32mwith\u001b[0m \u001b[0mfiona_env\u001b[0m\u001b[0;34m(\u001b[0m\u001b[0;34m)\u001b[0m\u001b[0;34m:\u001b[0m\u001b[0;34m\u001b[0m\u001b[0;34m\u001b[0m\u001b[0m\n\u001b[0;32m--> 201\u001b[0;31m         \u001b[0;32mwith\u001b[0m \u001b[0mreader\u001b[0m\u001b[0;34m(\u001b[0m\u001b[0mpath_or_bytes\u001b[0m\u001b[0;34m,\u001b[0m \u001b[0;34m**\u001b[0m\u001b[0mkwargs\u001b[0m\u001b[0;34m)\u001b[0m \u001b[0;32mas\u001b[0m \u001b[0mfeatures\u001b[0m\u001b[0;34m:\u001b[0m\u001b[0;34m\u001b[0m\u001b[0;34m\u001b[0m\u001b[0m\n\u001b[0m\u001b[1;32m    202\u001b[0m \u001b[0;34m\u001b[0m\u001b[0m\n\u001b[1;32m    203\u001b[0m             \u001b[0;31m# In a future Fiona release the crs attribute of features will\u001b[0m\u001b[0;34m\u001b[0m\u001b[0;34m\u001b[0m\u001b[0;34m\u001b[0m\u001b[0m\n",
            "\u001b[0;32m/usr/local/lib/python3.7/dist-packages/fiona/env.py\u001b[0m in \u001b[0;36mwrapper\u001b[0;34m(*args, **kwargs)\u001b[0m\n\u001b[1;32m    406\u001b[0m     \u001b[0;32mdef\u001b[0m \u001b[0mwrapper\u001b[0m\u001b[0;34m(\u001b[0m\u001b[0;34m*\u001b[0m\u001b[0margs\u001b[0m\u001b[0;34m,\u001b[0m \u001b[0;34m**\u001b[0m\u001b[0mkwargs\u001b[0m\u001b[0;34m)\u001b[0m\u001b[0;34m:\u001b[0m\u001b[0;34m\u001b[0m\u001b[0;34m\u001b[0m\u001b[0m\n\u001b[1;32m    407\u001b[0m         \u001b[0;32mif\u001b[0m \u001b[0mlocal\u001b[0m\u001b[0;34m.\u001b[0m\u001b[0m_env\u001b[0m\u001b[0;34m:\u001b[0m\u001b[0;34m\u001b[0m\u001b[0;34m\u001b[0m\u001b[0m\n\u001b[0;32m--> 408\u001b[0;31m             \u001b[0;32mreturn\u001b[0m \u001b[0mf\u001b[0m\u001b[0;34m(\u001b[0m\u001b[0;34m*\u001b[0m\u001b[0margs\u001b[0m\u001b[0;34m,\u001b[0m \u001b[0;34m**\u001b[0m\u001b[0mkwargs\u001b[0m\u001b[0;34m)\u001b[0m\u001b[0;34m\u001b[0m\u001b[0;34m\u001b[0m\u001b[0m\n\u001b[0m\u001b[1;32m    409\u001b[0m         \u001b[0;32melse\u001b[0m\u001b[0;34m:\u001b[0m\u001b[0;34m\u001b[0m\u001b[0;34m\u001b[0m\u001b[0m\n\u001b[1;32m    410\u001b[0m             \u001b[0;32mif\u001b[0m \u001b[0misinstance\u001b[0m\u001b[0;34m(\u001b[0m\u001b[0margs\u001b[0m\u001b[0;34m[\u001b[0m\u001b[0;36m0\u001b[0m\u001b[0;34m]\u001b[0m\u001b[0;34m,\u001b[0m \u001b[0mstr\u001b[0m\u001b[0;34m)\u001b[0m\u001b[0;34m:\u001b[0m\u001b[0;34m\u001b[0m\u001b[0;34m\u001b[0m\u001b[0m\n",
            "\u001b[0;32m/usr/local/lib/python3.7/dist-packages/fiona/__init__.py\u001b[0m in \u001b[0;36mopen\u001b[0;34m(fp, mode, driver, schema, crs, encoding, layer, vfs, enabled_drivers, crs_wkt, **kwargs)\u001b[0m\n\u001b[1;32m    255\u001b[0m         \u001b[0;32mif\u001b[0m \u001b[0mmode\u001b[0m \u001b[0;32min\u001b[0m \u001b[0;34m(\u001b[0m\u001b[0;34m'a'\u001b[0m\u001b[0;34m,\u001b[0m \u001b[0;34m'r'\u001b[0m\u001b[0;34m)\u001b[0m\u001b[0;34m:\u001b[0m\u001b[0;34m\u001b[0m\u001b[0;34m\u001b[0m\u001b[0m\n\u001b[1;32m    256\u001b[0m             c = Collection(path, mode, driver=driver, encoding=encoding,\n\u001b[0;32m--> 257\u001b[0;31m                            layer=layer, enabled_drivers=enabled_drivers, **kwargs)\n\u001b[0m\u001b[1;32m    258\u001b[0m         \u001b[0;32melif\u001b[0m \u001b[0mmode\u001b[0m \u001b[0;34m==\u001b[0m \u001b[0;34m'w'\u001b[0m\u001b[0;34m:\u001b[0m\u001b[0;34m\u001b[0m\u001b[0;34m\u001b[0m\u001b[0m\n\u001b[1;32m    259\u001b[0m             \u001b[0;32mif\u001b[0m \u001b[0mschema\u001b[0m\u001b[0;34m:\u001b[0m\u001b[0;34m\u001b[0m\u001b[0;34m\u001b[0m\u001b[0m\n",
            "\u001b[0;32m/usr/local/lib/python3.7/dist-packages/fiona/collection.py\u001b[0m in \u001b[0;36m__init__\u001b[0;34m(self, path, mode, driver, schema, crs, encoding, layer, vsi, archive, enabled_drivers, crs_wkt, ignore_fields, ignore_geometry, **kwargs)\u001b[0m\n\u001b[1;32m    160\u001b[0m             \u001b[0;32mif\u001b[0m \u001b[0mself\u001b[0m\u001b[0;34m.\u001b[0m\u001b[0mmode\u001b[0m \u001b[0;34m==\u001b[0m \u001b[0;34m'r'\u001b[0m\u001b[0;34m:\u001b[0m\u001b[0;34m\u001b[0m\u001b[0;34m\u001b[0m\u001b[0m\n\u001b[1;32m    161\u001b[0m                 \u001b[0mself\u001b[0m\u001b[0;34m.\u001b[0m\u001b[0msession\u001b[0m \u001b[0;34m=\u001b[0m \u001b[0mSession\u001b[0m\u001b[0;34m(\u001b[0m\u001b[0;34m)\u001b[0m\u001b[0;34m\u001b[0m\u001b[0;34m\u001b[0m\u001b[0m\n\u001b[0;32m--> 162\u001b[0;31m                 \u001b[0mself\u001b[0m\u001b[0;34m.\u001b[0m\u001b[0msession\u001b[0m\u001b[0;34m.\u001b[0m\u001b[0mstart\u001b[0m\u001b[0;34m(\u001b[0m\u001b[0mself\u001b[0m\u001b[0;34m,\u001b[0m \u001b[0;34m**\u001b[0m\u001b[0mkwargs\u001b[0m\u001b[0;34m)\u001b[0m\u001b[0;34m\u001b[0m\u001b[0;34m\u001b[0m\u001b[0m\n\u001b[0m\u001b[1;32m    163\u001b[0m             \u001b[0;32melif\u001b[0m \u001b[0mself\u001b[0m\u001b[0;34m.\u001b[0m\u001b[0mmode\u001b[0m \u001b[0;32min\u001b[0m \u001b[0;34m(\u001b[0m\u001b[0;34m'a'\u001b[0m\u001b[0;34m,\u001b[0m \u001b[0;34m'w'\u001b[0m\u001b[0;34m)\u001b[0m\u001b[0;34m:\u001b[0m\u001b[0;34m\u001b[0m\u001b[0;34m\u001b[0m\u001b[0m\n\u001b[1;32m    164\u001b[0m                 \u001b[0mself\u001b[0m\u001b[0;34m.\u001b[0m\u001b[0msession\u001b[0m \u001b[0;34m=\u001b[0m \u001b[0mWritingSession\u001b[0m\u001b[0;34m(\u001b[0m\u001b[0;34m)\u001b[0m\u001b[0;34m\u001b[0m\u001b[0;34m\u001b[0m\u001b[0m\n",
            "\u001b[0;32mfiona/ogrext.pyx\u001b[0m in \u001b[0;36mfiona.ogrext.Session.start\u001b[0;34m()\u001b[0m\n",
            "\u001b[0;32mfiona/_shim.pyx\u001b[0m in \u001b[0;36mfiona._shim.gdal_open_vector\u001b[0;34m()\u001b[0m\n",
            "\u001b[0;31mDriverError\u001b[0m: '/vsizip/www2.census.gov/geo/tiger/GENZ2017/shp/cb_2017_us_zcta510_500k.zip' does not exist in the file system, and is not recognized as a supported dataset name."
          ]
        }
      ]
    },
    {
      "cell_type": "code",
      "metadata": {
        "id": "wY1Q6dkQSEQH"
      },
      "source": [
        "df_states = gpd.read_file(shapefiles_states)"
      ],
      "execution_count": null,
      "outputs": []
    },
    {
      "cell_type": "code",
      "metadata": {
        "id": "3zQS8e2AQ1Ag"
      },
      "source": [
        "df_states.head(3)"
      ],
      "execution_count": null,
      "outputs": []
    },
    {
      "cell_type": "code",
      "metadata": {
        "id": "Bqj7tyorQ7ZI"
      },
      "source": [
        "uscities = pd.read_csv(\"uscities.csv\")"
      ],
      "execution_count": null,
      "outputs": []
    },
    {
      "cell_type": "code",
      "metadata": {
        "id": "kjwEqyUfRD3A"
      },
      "source": [
        "uscities.head(3)"
      ],
      "execution_count": null,
      "outputs": []
    },
    {
      "cell_type": "code",
      "metadata": {
        "id": "0xH21-elRp1P"
      },
      "source": [
        "len(set(uscities))"
      ],
      "execution_count": null,
      "outputs": []
    },
    {
      "cell_type": "code",
      "metadata": {
        "id": "jx05nhxbSXe3"
      },
      "source": [
        "df_states.plot(\n",
        "\n",
        "    figsize=(10,10),\n",
        "\n",
        "    linewidth=0.2,\n",
        "\n",
        "    color='white',\n",
        "\n",
        "    edgecolor='black'\n",
        "\n",
        ")\n",
        "\n",
        "plt.scatter(uscities.lng, uscities.lat, marker = \"p\", c='darkgreen')\n",
        "\n",
        "plt.show()"
      ],
      "execution_count": null,
      "outputs": []
    },
    {
      "cell_type": "code",
      "metadata": {
        "id": "5jnbiTkkTTA-"
      },
      "source": [],
      "execution_count": null,
      "outputs": []
    }
  ]
}